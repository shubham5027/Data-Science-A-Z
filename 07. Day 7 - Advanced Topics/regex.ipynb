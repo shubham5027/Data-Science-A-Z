{
 "cells": [
  {
   "cell_type": "markdown",
   "metadata": {},
   "source": [
    "# **Regular Expressions (RegEx):**\n",
    "\n",
    "* A RegEx, or Regular Expression, is a sequence of characters that forms a search pattern.\n",
    "\n",
    "* RegEx can be used to check if a string contains the specified search pattern."
   ]
  },
  {
   "cell_type": "markdown",
   "metadata": {},
   "source": [
    "> **Import the Module:**"
   ]
  },
  {
   "cell_type": "code",
   "execution_count": 1,
   "metadata": {},
   "outputs": [],
   "source": [
    "import re"
   ]
  },
  {
   "cell_type": "markdown",
   "metadata": {},
   "source": [
    "> **re.compile():**"
   ]
  },
  {
   "cell_type": "code",
   "execution_count": 2,
   "metadata": {},
   "outputs": [
    {
     "name": "stdout",
     "output_type": "stream",
     "text": [
      "<re.Match object; span=(5, 12), match='amazing'>\n"
     ]
    }
   ],
   "source": [
    "pattern = 'amazing'\n",
    "# Creating a RegEx Object\n",
    "re_obj = re.compile(pattern)\n",
    "\n",
    "# String\n",
    "s = 'Very amazing to learn Python.'\n",
    "\n",
    "# Searching for pattern in the string using RegEx Object\n",
    "f = re_obj.search(s)\n",
    "\n",
    "print(f)"
   ]
  },
  {
   "cell_type": "code",
   "execution_count": 9,
   "metadata": {},
   "outputs": [
    {
     "name": "stdout",
     "output_type": "stream",
     "text": [
      "['I', 'e', 'a', 'a', 'a', 'a', 'a', 'o', 'a', 'u']\n",
      "['I', 'e', 'a', 'a', 'a', 'a', 'a', 'o', 'a', 'u']\n"
     ]
    }
   ],
   "source": [
    "import re\n",
    "\n",
    "s = ' I Snehal Sanjay Mankar from Sarud'\n",
    "re_obj = re.compile('[aeiouAEIOU]')\n",
    "\n",
    "result = re_obj.findall(s)\n",
    "print(result)\n",
    "print(result)"
   ]
  },
  {
   "cell_type": "markdown",
   "metadata": {},
   "source": [
    "> **re.search():**"
   ]
  },
  {
   "cell_type": "code",
   "execution_count": 15,
   "metadata": {},
   "outputs": [
    {
     "name": "stdout",
     "output_type": "stream",
     "text": [
      "None\n",
      "<re.Match object; span=(5, 11), match='Snehal'>\n",
      "<re.Match object; span=(19, 25), match='snehal'>\n",
      "<re.Match object; span=(5, 11), match='Snehal'>\n",
      "Snehal\n",
      "Snehal\n"
     ]
    }
   ],
   "source": [
    "s = 'I am Snehal Mankar snehal mankar'\n",
    "print(re.search('Sarud', s))\n",
    "print(re.search('Snehal', s))\n",
    "print(re.search('snehal', s))\n",
    "print(re.search('snehal', s, flags= re.I))\n",
    "\n",
    "res = re.search('Snehal', s, flags= re.I)\n",
    "\n",
    "print(res.group())\n",
    "print(res.group(0))"
   ]
  },
  {
   "cell_type": "code",
   "execution_count": 38,
   "metadata": {},
   "outputs": [
    {
     "name": "stdout",
     "output_type": "stream",
     "text": [
      "<re.Match object; span=(5, 11), match='Snehal'>\n",
      "(5, 11)\n",
      "5\n",
      "11\n",
      "18\n",
      "I am Snehal Mankar\n",
      "re.compile('Snehal')\n",
      "((5, 11),)\n"
     ]
    }
   ],
   "source": [
    "s = 'I am Snehal Mankar'\n",
    "res = re.search('Snehal', s)\n",
    "\n",
    "print(res)\n",
    "print(res.span())\n",
    "print(res.start())\n",
    "print(res.end())\n",
    "print(res.endpos)\n",
    "print(res.string)\n",
    "print(res.re)\n",
    "print(res.regs)"
   ]
  },
  {
   "cell_type": "markdown",
   "metadata": {},
   "source": [
    "> **re.match():**"
   ]
  },
  {
   "cell_type": "code",
   "execution_count": 14,
   "metadata": {},
   "outputs": [
    {
     "name": "stdout",
     "output_type": "stream",
     "text": [
      "None\n",
      "<re.Match object; span=(0, 1), match='I'>\n"
     ]
    }
   ],
   "source": [
    "s = 'I am Snehal Mankar Snehal'\n",
    "r1 = re.match('Snehal', s)\n",
    "r2 = re.match('I', s)\n",
    "\n",
    "print(r1)\n",
    "print(r2)"
   ]
  },
  {
   "cell_type": "code",
   "execution_count": 37,
   "metadata": {},
   "outputs": [
    {
     "name": "stdout",
     "output_type": "stream",
     "text": [
      "<re.Match object; span=(5, 11), match='Snehal'>\n",
      "0\n",
      "25\n",
      "5\n",
      "11\n",
      "(5, 11)\n",
      "I am Snehal Mankar Snehal\n",
      "Snehal\n",
      "re.compile('Snehal')\n",
      "((5, 11),)\n"
     ]
    }
   ],
   "source": [
    "s = 'I am Snehal Mankar Snehal'\n",
    "r = re.search('Snehal', s)\n",
    "\n",
    "print(r)\n",
    "print(r.pos)\n",
    "print(r.endpos)\n",
    "\n",
    "print(r.start())\n",
    "print(r.end())\n",
    "print(r.span())\n",
    "print(r.string)\n",
    "print(r.group())\n",
    "print(r.re)\n",
    "print(r.regs)"
   ]
  },
  {
   "cell_type": "markdown",
   "metadata": {},
   "source": [
    "> **search() vs match():**"
   ]
  },
  {
   "cell_type": "code",
   "execution_count": 25,
   "metadata": {},
   "outputs": [
    {
     "name": "stdout",
     "output_type": "stream",
     "text": [
      "<re.Match object; span=(7, 13), match='Python'>\n",
      "<re.Match object; span=(0, 3), match='I l'>\n"
     ]
    }
   ],
   "source": [
    "s1 = 'I love Python'\n",
    "print(re.search('Python', s1))\n",
    "print(re.match('I l', s1))"
   ]
  },
  {
   "cell_type": "markdown",
   "metadata": {},
   "source": [
    "> **re.fullmatch():**"
   ]
  },
  {
   "cell_type": "code",
   "execution_count": 4,
   "metadata": {},
   "outputs": [
    {
     "name": "stdout",
     "output_type": "stream",
     "text": [
      "None\n",
      "<re.Match object; span=(0, 33), match='ab abb abbb aabb ab aaab aaabb ab'>\n"
     ]
    }
   ],
   "source": [
    "s = 'ab abb abbb aabb ab aaab aaabb ab'\n",
    "print(re.fullmatch(' ab ', s))\n",
    "print(re.fullmatch('ab abb abbb aabb ab aaab aaabb ab', s))"
   ]
  },
  {
   "cell_type": "code",
   "execution_count": 41,
   "metadata": {},
   "outputs": [
    {
     "name": "stdout",
     "output_type": "stream",
     "text": [
      "None\n",
      "<re.Match object; span=(0, 13), match='Snehal Mankar'>\n"
     ]
    }
   ],
   "source": [
    "s = 'Snehal Mankar'\n",
    "print(re.fullmatch('Snehal', s))\n",
    "\n",
    "res = re.fullmatch('Snehal Mankar', s)\n",
    "print(res)\n"
   ]
  },
  {
   "cell_type": "markdown",
   "metadata": {},
   "source": [
    "> **re.findall()**"
   ]
  },
  {
   "cell_type": "code",
   "execution_count": 44,
   "metadata": {},
   "outputs": [
    {
     "name": "stdout",
     "output_type": "stream",
     "text": [
      "['aa', 'aa', 'aa', 'aa', 'aa']\n"
     ]
    }
   ],
   "source": [
    "s = 'a aa aaa abaa aabaa'\n",
    "res = re.findall('aa', s)\n",
    "print(res)"
   ]
  },
  {
   "cell_type": "markdown",
   "metadata": {},
   "source": [
    "> **finditer():**"
   ]
  },
  {
   "cell_type": "code",
   "execution_count": 46,
   "metadata": {},
   "outputs": [
    {
     "name": "stdout",
     "output_type": "stream",
     "text": [
      "[<re.Match object; span=(0, 6), match='snehal'>, <re.Match object; span=(7, 13), match='snehal'>, <re.Match object; span=(14, 20), match='snehal'>]\n"
     ]
    }
   ],
   "source": [
    "import re\n",
    "\n",
    "s = 'snehal snehal snehal'\n",
    "i = re.finditer('snehal', s)\n",
    "print(list(i))\n",
    "\n",
    "for d in i:\n",
    "    print(d)"
   ]
  },
  {
   "cell_type": "markdown",
   "metadata": {},
   "source": [
    "> **re.split():**"
   ]
  },
  {
   "cell_type": "code",
   "execution_count": 13,
   "metadata": {},
   "outputs": [
    {
     "name": "stdout",
     "output_type": "stream",
     "text": [
      "['I', 'am', 'Snehal', 'Mankar']\n",
      "['I', 'am', 'Snehal', 'Mankar']\n",
      "['I', 'am', 'Snehal Mankar']\n"
     ]
    }
   ],
   "source": [
    "s = 'I am Snehal Mankar'\n",
    "print(re.split(' ', s))\n",
    "print(re.split('\\s', s))\n",
    "print(re.split('\\s', s, maxsplit=2))"
   ]
  },
  {
   "cell_type": "markdown",
   "metadata": {},
   "source": [
    "> **re.sub():**"
   ]
  },
  {
   "cell_type": "code",
   "execution_count": 16,
   "metadata": {},
   "outputs": [
    {
     "name": "stdout",
     "output_type": "stream",
     "text": [
      "I##am##Snehal##Mankar\n",
      "I##am Snehal Mankar\n",
      "I am Snehal Mankar\n"
     ]
    }
   ],
   "source": [
    "s = 'I am Snehal Mankar'\n",
    "print(re.sub('\\s', '##', s))\n",
    "print(re.sub('\\s', '##', s, count=1))\n",
    "print(s)"
   ]
  },
  {
   "cell_type": "markdown",
   "metadata": {},
   "source": [
    "> **re.subn():**"
   ]
  },
  {
   "cell_type": "code",
   "execution_count": 47,
   "metadata": {},
   "outputs": [
    {
     "name": "stdout",
     "output_type": "stream",
     "text": [
      "('I00am00Snehal00Mankar', 3)\n",
      "('I00am Snehal Mankar', 1)\n"
     ]
    }
   ],
   "source": [
    "import re\n",
    "\n",
    "s = 'I am Snehal Mankar'\n",
    "print(re.subn('\\s', '00', s))\n",
    "print(re.subn('\\s', '00', s, count=1))"
   ]
  },
  {
   "cell_type": "markdown",
   "metadata": {},
   "source": [
    "> **re.escape()**"
   ]
  },
  {
   "cell_type": "code",
   "execution_count": 18,
   "metadata": {},
   "outputs": [
    {
     "name": "stdout",
     "output_type": "stream",
     "text": [
      "Snehal\\ Sanjay\\ Mankar\n"
     ]
    }
   ],
   "source": [
    "import re\n",
    "\n",
    "pattern = 'Snehal Sanjay Mankar'\n",
    "\n",
    "result = re.escape(pattern)\n",
    "\n",
    "print(result)"
   ]
  },
  {
   "cell_type": "code",
   "execution_count": 59,
   "metadata": {},
   "outputs": [
    {
     "name": "stdout",
     "output_type": "stream",
     "text": [
      "<re.Match object; span=(0, 8), match='snehalll'>\n",
      "<re.Match object; span=(9, 16), match='snehal*'>\n",
      "snehal\\*\n"
     ]
    }
   ],
   "source": [
    "s1 = 'snehalll snehal*'\n",
    "\n",
    "p1 = 'snehal*'\n",
    "p = re.escape(p1)\n",
    "print(re.search(p1, s1))\n",
    "print(re.search(p, s1))\n",
    "print(p)"
   ]
  },
  {
   "cell_type": "markdown",
   "metadata": {},
   "source": [
    "> **re.purge()**"
   ]
  },
  {
   "cell_type": "code",
   "execution_count": 21,
   "metadata": {},
   "outputs": [
    {
     "name": "stdout",
     "output_type": "stream",
     "text": [
      "<re.Match object; span=(0, 3), match='123'>\n",
      "<re.Match object; span=(3, 6), match='abc'>\n",
      "<re.Match object; span=(0, 3), match='456'>\n",
      "<re.Match object; span=(3, 6), match='def'>\n"
     ]
    }
   ],
   "source": [
    "# Importing re module  \n",
    "import re  \n",
    "  \n",
    "# Define some regular expressions  \n",
    "pattern1 = r'\\d+'  \n",
    "pattern2 = r'[a-z]+'  \n",
    "  \n",
    "# Use the regular expressions  \n",
    "print(re.search(pattern1, '123abc'))  \n",
    "print(re.search(pattern2, '123abc'))  \n",
    "  \n",
    "# Clear the regular expression cache  \n",
    "re.purge()  \n",
    "  \n",
    "# Use the regular expressions again  \n",
    "print(re.search(pattern1, '456def'))  \n",
    "print(re.search(pattern2, '456def'))  "
   ]
  },
  {
   "cell_type": "code",
   "execution_count": 60,
   "metadata": {},
   "outputs": [
    {
     "name": "stdout",
     "output_type": "stream",
     "text": [
      "<re.Match object; span=(0, 6), match='snehal'>\n",
      "<re.Match object; span=(0, 6), match='snehal'>\n"
     ]
    }
   ],
   "source": [
    "p = 'snehal*'\n",
    "print(re.search(p, 'snehal'))\n",
    "\n",
    "re.purge()\n",
    "print(re.search(p, 'snehal'))"
   ]
  },
  {
   "cell_type": "code",
   "execution_count": 63,
   "metadata": {},
   "outputs": [
    {
     "ename": "AttributeError",
     "evalue": "module 're' has no attribute '_regex_cache'",
     "output_type": "error",
     "traceback": [
      "\u001b[1;31m---------------------------------------------------------------------------\u001b[0m",
      "\u001b[1;31mAttributeError\u001b[0m                            Traceback (most recent call last)",
      "Cell \u001b[1;32mIn[63], line 8\u001b[0m\n\u001b[0;32m      5\u001b[0m regex2 \u001b[39m=\u001b[39m re\u001b[39m.\u001b[39mcompile(\u001b[39mr\u001b[39m\u001b[39m'\u001b[39m\u001b[39mpattern2\u001b[39m\u001b[39m'\u001b[39m)\n\u001b[0;32m      7\u001b[0m \u001b[39m# Print the current state of the regular expression cache\u001b[39;00m\n\u001b[1;32m----> 8\u001b[0m \u001b[39mprint\u001b[39m(\u001b[39mf\u001b[39m\u001b[39m\"\u001b[39m\u001b[39mBefore purging: \u001b[39m\u001b[39m{\u001b[39;00mre\u001b[39m.\u001b[39;49m_regex_cache\u001b[39m}\u001b[39;00m\u001b[39m\"\u001b[39m)\n\u001b[0;32m     10\u001b[0m \u001b[39m# Use the compiled regular expressions\u001b[39;00m\n\u001b[0;32m     11\u001b[0m \n\u001b[0;32m     12\u001b[0m \u001b[39m# Purge all regular expression objects from the cache\u001b[39;00m\n\u001b[0;32m     13\u001b[0m re\u001b[39m.\u001b[39mpurge()\n",
      "\u001b[1;31mAttributeError\u001b[0m: module 're' has no attribute '_regex_cache'"
     ]
    }
   ],
   "source": [
    "import re\n",
    "\n",
    "# Compile two regular expressions\n",
    "regex1 = re.compile(r'pattern1')\n",
    "regex2 = re.compile(r'pattern2')\n",
    "\n",
    "# Print the current state of the regular expression cache\n",
    "print(f\"Before purging: {re._regex_cache}\")\n",
    "\n",
    "# Use the compiled regular expressions\n",
    "\n",
    "# Purge all regular expression objects from the cache\n",
    "re.purge()\n",
    "\n",
    "# Print the state of the regular expression cache after purging\n",
    "print(f\"After purging: {re._regex_cache}\")\n"
   ]
  },
  {
   "cell_type": "code",
   "execution_count": null,
   "metadata": {},
   "outputs": [],
   "source": []
  }
 ],
 "metadata": {
  "kernelspec": {
   "display_name": "Python 3",
   "language": "python",
   "name": "python3"
  },
  "language_info": {
   "codemirror_mode": {
    "name": "ipython",
    "version": 3
   },
   "file_extension": ".py",
   "mimetype": "text/x-python",
   "name": "python",
   "nbconvert_exporter": "python",
   "pygments_lexer": "ipython3",
   "version": "3.11.3"
  },
  "orig_nbformat": 4
 },
 "nbformat": 4,
 "nbformat_minor": 2
}
