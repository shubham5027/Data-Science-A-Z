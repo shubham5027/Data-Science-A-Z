{
 "cells": [
  {
   "cell_type": "code",
   "execution_count": 20,
   "metadata": {},
   "outputs": [
    {
     "name": "stdout",
     "output_type": "stream",
     "text": [
      "{1: 'Snehal', 2: 'Sanjay', 3: 'Mankar'}\n"
     ]
    }
   ],
   "source": [
    "d = {1:'Snehal', 2:'Sanjay', 3:'Mankar'}\n",
    "print(d)"
   ]
  },
  {
   "cell_type": "code",
   "execution_count": 21,
   "metadata": {},
   "outputs": [
    {
     "name": "stdout",
     "output_type": "stream",
     "text": [
      "{'name': 'Snehal', 'age': 22, 'address': 'sarud', 'marks': [99, 100], 'subjects': ('OS', 'DB', 'DSA')}\n"
     ]
    }
   ],
   "source": [
    "sub = ('OS', 'DB', 'DSA')\n",
    "d = {'name':'Snehal', 'age':22, 'address':'sarud', 'marks':[99,100], 'subjects':sub}\n",
    "print(d)"
   ]
  },
  {
   "cell_type": "code",
   "execution_count": 22,
   "metadata": {},
   "outputs": [
    {
     "name": "stdout",
     "output_type": "stream",
     "text": [
      "{1: 'Snehal', 2: 'Kal', 3: 'Shiv', 4: 'Shubh'}\n"
     ]
    }
   ],
   "source": [
    "# Create Dictionary with dict() method\n",
    "\n",
    "t = [{1,'Snehal'}, (2,'Kal'), (3,'Shiv'), (4,'Shubh')]\n",
    "d1 = dict(t)\n",
    "print(d1)"
   ]
  },
  {
   "cell_type": "code",
   "execution_count": 23,
   "metadata": {},
   "outputs": [
    {
     "ename": "TypeError",
     "evalue": "unhashable type: 'list'",
     "output_type": "error",
     "traceback": [
      "\u001b[1;31m---------------------------------------------------------------------------\u001b[0m",
      "\u001b[1;31mTypeError\u001b[0m                                 Traceback (most recent call last)",
      "Cell \u001b[1;32mIn[23], line 2\u001b[0m\n\u001b[0;32m      1\u001b[0m t \u001b[39m=\u001b[39m (\u001b[39m1\u001b[39m,\u001b[39m2\u001b[39m)\n\u001b[1;32m----> 2\u001b[0m d \u001b[39m=\u001b[39m {[\u001b[39m1\u001b[39m]:\u001b[39m23\u001b[39m, t:\u001b[39m34\u001b[39m}\n\u001b[0;32m      3\u001b[0m \u001b[39mprint\u001b[39m(d)\n",
      "\u001b[1;31mTypeError\u001b[0m: unhashable type: 'list'"
     ]
    }
   ],
   "source": [
    "t = (1,2)\n",
    "d = {[1]:23, t:34}\n",
    "print(d)"
   ]
  },
  {
   "cell_type": "code",
   "execution_count": 26,
   "metadata": {},
   "outputs": [
    {
     "name": "stdout",
     "output_type": "stream",
     "text": [
      "['Sarud', 'Kop']\n"
     ]
    }
   ],
   "source": [
    "# Access the dict values\n",
    "\n",
    "d = {'name':'Sne', 'age':22, 'addr':['Sarud', 'Kop']}\n",
    "print(d['addr'])"
   ]
  },
  {
   "cell_type": "code",
   "execution_count": 29,
   "metadata": {},
   "outputs": [
    {
     "ename": "KeyError",
     "evalue": "'mark'",
     "output_type": "error",
     "traceback": [
      "\u001b[1;31m---------------------------------------------------------------------------\u001b[0m",
      "\u001b[1;31mKeyError\u001b[0m                                  Traceback (most recent call last)",
      "Cell \u001b[1;32mIn[29], line 1\u001b[0m\n\u001b[1;32m----> 1\u001b[0m \u001b[39mprint\u001b[39m(d[\u001b[39m'\u001b[39;49m\u001b[39mmark\u001b[39;49m\u001b[39m'\u001b[39;49m])\n",
      "\u001b[1;31mKeyError\u001b[0m: 'mark'"
     ]
    }
   ],
   "source": [
    "print(d['mark'])"
   ]
  },
  {
   "cell_type": "code",
   "execution_count": 30,
   "metadata": {},
   "outputs": [
    {
     "name": "stdout",
     "output_type": "stream",
     "text": [
      "None\n"
     ]
    }
   ],
   "source": [
    "print(d.get('mark'))"
   ]
  },
  {
   "cell_type": "code",
   "execution_count": 33,
   "metadata": {},
   "outputs": [
    {
     "name": "stdout",
     "output_type": "stream",
     "text": [
      "dict_items([('name', 'Sne'), ('age', 22), ('addr', ['Sarud', 'Kop'])])\n",
      "dict_keys(['name', 'age', 'addr'])\n",
      "dict_values(['Sne', 22, ['Sarud', 'Kop']])\n"
     ]
    }
   ],
   "source": [
    "print(d.items())\n",
    "print(d.keys())\n",
    "print(d.values())"
   ]
  },
  {
   "cell_type": "code",
   "execution_count": 34,
   "metadata": {},
   "outputs": [
    {
     "name": "stdout",
     "output_type": "stream",
     "text": [
      "name Sne\n",
      "age 22\n",
      "addr ['Sarud', 'Kop']\n"
     ]
    }
   ],
   "source": [
    "# Loop through the Dictionary\n",
    "\n",
    "for i in d.keys():\n",
    "    print(i, d[i])"
   ]
  },
  {
   "cell_type": "code",
   "execution_count": 36,
   "metadata": {},
   "outputs": [
    {
     "name": "stdout",
     "output_type": "stream",
     "text": [
      "name Sne\n",
      "age 22\n",
      "addr ['Sarud', 'Kop']\n"
     ]
    }
   ],
   "source": [
    "for i in d.items():\n",
    "    print(i[0], i[1])"
   ]
  },
  {
   "cell_type": "code",
   "execution_count": 39,
   "metadata": {},
   "outputs": [
    {
     "name": "stdout",
     "output_type": "stream",
     "text": [
      "Sne\n",
      "22\n",
      "['Sarud', 'Kop']\n"
     ]
    }
   ],
   "source": [
    "for i in d.values():\n",
    "    print(i)"
   ]
  },
  {
   "cell_type": "code",
   "execution_count": 40,
   "metadata": {},
   "outputs": [
    {
     "name": "stdout",
     "output_type": "stream",
     "text": [
      "addr ['Sarud', 'Kop']\n",
      "age 22\n",
      "name Sne\n"
     ]
    }
   ],
   "source": [
    "for i in sorted(d.keys()):\n",
    "    print(i, d[i])"
   ]
  },
  {
   "cell_type": "code",
   "execution_count": 42,
   "metadata": {},
   "outputs": [
    {
     "name": "stdout",
     "output_type": "stream",
     "text": [
      "1799835980736\n",
      "140718470194632\n",
      "1799835818352\n",
      "1799835668800\n"
     ]
    }
   ],
   "source": [
    "print(id(d['addr']))\n",
    "print(id(d['age']))\n",
    "print(id(d['name']))\n",
    "print(id(d))"
   ]
  },
  {
   "cell_type": "code",
   "execution_count": 43,
   "metadata": {},
   "outputs": [
    {
     "name": "stdout",
     "output_type": "stream",
     "text": [
      "{'name': 'Sne', 'age': 22, 'addr': ['Sarud', 'Kop'], 'Name': 'Sne'}\n"
     ]
    }
   ],
   "source": [
    "d['Name'] = d['name']\n",
    "print(d)"
   ]
  },
  {
   "cell_type": "code",
   "execution_count": 44,
   "metadata": {},
   "outputs": [
    {
     "name": "stdout",
     "output_type": "stream",
     "text": [
      "1799835818352\n",
      "1799835818352\n"
     ]
    }
   ],
   "source": [
    "print(id(d['name']))\n",
    "print(id(d['Name']))"
   ]
  },
  {
   "cell_type": "code",
   "execution_count": 45,
   "metadata": {},
   "outputs": [
    {
     "name": "stdout",
     "output_type": "stream",
     "text": [
      "{'name': 'Sne', 'age': 22, 'addr': ['Sarud', 'Kop'], 'Name': 'Sne', 'Age': 22}\n"
     ]
    }
   ],
   "source": [
    "d['Age'] = d['age']\n",
    "print(d)"
   ]
  },
  {
   "cell_type": "code",
   "execution_count": 52,
   "metadata": {},
   "outputs": [
    {
     "name": "stdout",
     "output_type": "stream",
     "text": [
      "140718470194600\n",
      "140718470194728\n"
     ]
    }
   ],
   "source": [
    "print(id(d['age']))\n",
    "print(id(d['Age']))"
   ]
  },
  {
   "cell_type": "code",
   "execution_count": 51,
   "metadata": {},
   "outputs": [],
   "source": [
    "d['Age'] = 25"
   ]
  },
  {
   "cell_type": "code",
   "execution_count": 58,
   "metadata": {},
   "outputs": [
    {
     "name": "stdout",
     "output_type": "stream",
     "text": [
      "{'name': 'Sne', 'age': 21, 'addr': 'Kop'} {'age': 21} {'addr': 'Kop'}\n"
     ]
    }
   ],
   "source": [
    "# update() Function\n",
    "d1 = {'name': 'Sne'}\n",
    "d2 = {'age': 21}\n",
    "d3 = {'addr': 'Kop'}\n",
    "\n",
    "d1.update(d2)\n",
    "d1.update(d3)\n",
    "print(d1, d2, d3)"
   ]
  },
  {
   "cell_type": "code",
   "execution_count": 65,
   "metadata": {},
   "outputs": [
    {
     "name": "stdout",
     "output_type": "stream",
     "text": [
      "M\n",
      "Kop\n",
      "None\n",
      "{'name': 'M', 'addr': 'Kop', 'sub': None}\n"
     ]
    }
   ],
   "source": [
    "# setdefault() Function\n",
    "\n",
    "d = {'name': 'M'}\n",
    "print(d.setdefault('name', 'S'))\n",
    "print(d.setdefault('addr', 'Kop'))\n",
    "print(d.setdefault('sub'))\n",
    "\n",
    "print(d)"
   ]
  },
  {
   "cell_type": "code",
   "execution_count": 63,
   "metadata": {},
   "outputs": [
    {
     "name": "stdout",
     "output_type": "stream",
     "text": [
      "M\n",
      "None\n"
     ]
    }
   ],
   "source": [
    "print(d.setdefault('name', 'S'))\n",
    "print(d.setdefault('sub'))"
   ]
  },
  {
   "cell_type": "code",
   "execution_count": 68,
   "metadata": {},
   "outputs": [
    {
     "name": "stdout",
     "output_type": "stream",
     "text": [
      "{'name': 'Sne', 'age': 21, 'addr': 'Kop'}\n",
      "{'age': 21, 'addr': 'Kop'}\n",
      "{'addr': 'Kop'}\n",
      "{}\n"
     ]
    },
    {
     "ename": "NameError",
     "evalue": "name 'd' is not defined",
     "output_type": "error",
     "traceback": [
      "\u001b[1;31m---------------------------------------------------------------------------\u001b[0m",
      "\u001b[1;31mNameError\u001b[0m                                 Traceback (most recent call last)",
      "Cell \u001b[1;32mIn[68], line 14\u001b[0m\n\u001b[0;32m     11\u001b[0m \u001b[39mprint\u001b[39m(d)\n\u001b[0;32m     13\u001b[0m \u001b[39mdel\u001b[39;00m d\n\u001b[1;32m---> 14\u001b[0m \u001b[39mprint\u001b[39m(d)\n",
      "\u001b[1;31mNameError\u001b[0m: name 'd' is not defined"
     ]
    }
   ],
   "source": [
    "# Removing items from the dictionary\n",
    "\n",
    "d = {'name': 'Sne', 'age': 21, 'addr': 'Kop'}\n",
    "print(d)\n",
    "\n",
    "d.pop('name')\n",
    "print(d)\n",
    "\n",
    "del d['age']\n",
    "print(d)\n",
    "\n",
    "d.clear()\n",
    "print(d)\n",
    "\n",
    "del d\n",
    "print(d)"
   ]
  },
  {
   "cell_type": "code",
   "execution_count": 75,
   "metadata": {},
   "outputs": [
    {
     "name": "stdout",
     "output_type": "stream",
     "text": [
      "addr Kop\n",
      "age 21\n",
      "name Sne\n",
      "[('addr', 'Kop'), ('age', '21'), ('name', 'Sne')]\n",
      "['21', 'Kop', 'Sne']\n",
      "['addr', 'age', 'name']\n"
     ]
    }
   ],
   "source": [
    "# Sorting in the Dictionary\n",
    "\n",
    "d = {'name': 'Sne', 'age': '21', 'addr': 'Kop'}\n",
    "\n",
    "for i in sorted(d.keys()):\n",
    "    print(i, d[i])\n",
    "\n",
    "print(sorted(d.items()))\n",
    "# print(sorted(d.items(), key = list(d.values())))\n",
    "\n",
    "print(sorted(d.values()))\n",
    "\n",
    "print(sorted(d))\n",
    "\n",
    "d = {'name': 'Sne', 'age': '21', 'addr': 'Kop'}\n"
   ]
  },
  {
   "cell_type": "code",
   "execution_count": 4,
   "metadata": {},
   "outputs": [
    {
     "name": "stdout",
     "output_type": "stream",
     "text": [
      "['addr', 'age', 'name']\n",
      "['21', 'Kop', 'Sne']\n"
     ]
    }
   ],
   "source": [
    "print(sorted(d.keys()))\n",
    "print(sorted(d.values()))"
   ]
  },
  {
   "cell_type": "code",
   "execution_count": 3,
   "metadata": {},
   "outputs": [
    {
     "name": "stdout",
     "output_type": "stream",
     "text": [
      "{'21': 'age', 'Kop': 'addr', 'Sne': 'name'}\n",
      "{'age': '21', 'addr': 'Kop', 'name': 'Sne'}\n"
     ]
    }
   ],
   "source": [
    "d = {'name': 'Sne', 'age': '21', 'addr': 'Kop'}\n",
    "\n",
    "keys = d.keys()\n",
    "values = d.values()\n",
    "\n",
    "n = dict(zip(values, keys))\n",
    "o = dict(sorted(n.items()))\n",
    "\n",
    "print(o)\n",
    "\n",
    "r = dict(zip(o.values(), o.keys()))\n",
    "print(r)"
   ]
  },
  {
   "cell_type": "code",
   "execution_count": 85,
   "metadata": {},
   "outputs": [
    {
     "name": "stdout",
     "output_type": "stream",
     "text": [
      "['name', 'age', 'addr'] ['Sne', 21, 'Kop']\n",
      "{'name': 'Sne', 'age': 21, 'addr': 'Kop'}\n"
     ]
    }
   ],
   "source": [
    "# zip() Function\n",
    "\n",
    "d = {'name': 'Sne', 'age': 21, 'addr': 'Kop'}\n",
    "\n",
    "a = list(d.keys())\n",
    "b = list(d.values())\n",
    "\n",
    "print(a, b)\n",
    "\n",
    "n = dict(zip(a,b))\n",
    "print(n)"
   ]
  },
  {
   "cell_type": "code",
   "execution_count": 2,
   "metadata": {},
   "outputs": [
    {
     "name": "stdout",
     "output_type": "stream",
     "text": [
      "{'addr': 'Kop', 'age': '21', 'name': 'Sne'}\n",
      "{'age': '21', 'addr': 'Kop', 'name': 'Sne'}\n"
     ]
    }
   ],
   "source": [
    "# Easy sorting\n",
    "\n",
    "d = {'name': 'Sne', 'age': '21', 'addr': 'Kop'}\n",
    "print(dict(sorted(d.items(), key = lambda item: item[0])))\n",
    "print(dict(sorted(d.items(), key = lambda item: item[1])))"
   ]
  },
  {
   "cell_type": "code",
   "execution_count": 4,
   "metadata": {},
   "outputs": [
    {
     "name": "stdout",
     "output_type": "stream",
     "text": [
      "{'name': 'Snehal', 'age': 'Snehal', 'addr': 'Snehal'}\n"
     ]
    }
   ],
   "source": [
    "d = dict.fromkeys(['name', 'age', 'addr'], 'Snehal')\n",
    "\n",
    "print(d)"
   ]
  },
  {
   "cell_type": "code",
   "execution_count": 14,
   "metadata": {},
   "outputs": [
    {
     "name": "stdout",
     "output_type": "stream",
     "text": [
      "{'name': 'Sne', 'age': [21], 'addr': 'Kop', 'data': True}\n",
      "{'name': 'Man', 'age': [21], 'addr': 'Kop', 'data': True}\n",
      "{'age': [21], 'addr': 'Kop', 'data': True}\n",
      "{'age': [21], 'addr': 'Kop', 'data': True, 'name': 'Man'}\n"
     ]
    }
   ],
   "source": [
    "# Simple Dictionary\n",
    "d = {}\n",
    "d['name'] = 'Sne'\n",
    "d['age'] = [21]\n",
    "d['addr'] = ('Kop')\n",
    "d['data'] = True\n",
    "print(d)\n",
    "\n",
    "d['name'] = 'Man'\n",
    "print(d)\n",
    "\n",
    "del d['name']\n",
    "print(d)\n",
    "\n",
    "d['name'] = 'Man'\n",
    "print(d)"
   ]
  },
  {
   "cell_type": "code",
   "execution_count": 16,
   "metadata": {},
   "outputs": [
    {
     "name": "stdout",
     "output_type": "stream",
     "text": [
      "OrderedDict([('name', 'Sne'), ('age', [21]), ('addr', 'Kop'), ('data', True)])\n",
      "OrderedDict([('name', 'Man'), ('age', [21]), ('addr', 'Kop'), ('data', True)])\n",
      "name Man\n",
      "age [21]\n",
      "addr Kop\n",
      "data True\n",
      "OrderedDict([('age', [21]), ('addr', 'Kop'), ('data', True)])\n",
      "OrderedDict([('age', [21]), ('addr', 'Kop'), ('data', True), ('name', 'Man')])\n"
     ]
    }
   ],
   "source": [
    "# OrderedDict\n",
    "from collections import OrderedDict\n",
    "\n",
    "o = OrderedDict()\n",
    "o['name'] = 'Sne'\n",
    "o['age'] = [21]\n",
    "o['addr'] = ('Kop')\n",
    "o['data'] = True\n",
    "print(o)\n",
    "\n",
    "o['name'] = 'Man'\n",
    "print(o)\n",
    "\n",
    "for k, v in o.items():\n",
    "    print(k, v)\n",
    "\n",
    "del o['name']\n",
    "print(o)\n",
    "\n",
    "o['name'] = 'Man'\n",
    "print(o)\n"
   ]
  },
  {
   "cell_type": "code",
   "execution_count": 18,
   "metadata": {},
   "outputs": [
    {
     "name": "stdout",
     "output_type": "stream",
     "text": [
      "{'age': [21], 'addr': 'Kop', 'data': True, 'name': 'Man'}\n",
      "dict_keys(['age', 'addr', 'data', 'name'])\n",
      "dict_values([[21], 'Kop', True, 'Man'])\n"
     ]
    }
   ],
   "source": [
    "# Dictionary Comprehension\n",
    "print(d)\n",
    "print(d.keys())\n",
    "print(d.values())"
   ]
  },
  {
   "cell_type": "code",
   "execution_count": 28,
   "metadata": {},
   "outputs": [
    {
     "name": "stdout",
     "output_type": "stream",
     "text": [
      "{2: True}\n",
      "{'age': [21], 'addr': 'Kop', 'name': 'Man'}\n",
      "{2: True}\n",
      "{'age': [21]}\n"
     ]
    }
   ],
   "source": [
    "keys = ['age', 'addr', 2, 'name']\n",
    "values = [[21], 'Kop', True, 'Man']\n",
    "\n",
    "di = {k:v for (k,v) in zip(keys, values) if type(k)==int}\n",
    "ds = {k:v for (k,v) in zip(keys, values) if type(k)!=int}\n",
    "db = {k:v for (k,v) in zip(keys, values) if type(v)==bool}\n",
    "dl = {k:v for (k,v) in zip(keys, values) if type(v)==list}\n",
    "print(di)\n",
    "print(ds)\n",
    "print(db)\n",
    "print(dl)"
   ]
  },
  {
   "cell_type": "code",
   "execution_count": 29,
   "metadata": {},
   "outputs": [
    {
     "name": "stdout",
     "output_type": "stream",
     "text": [
      "{1: 1, 2: 4, 3: 9, 4: 16, 5: 25}\n"
     ]
    }
   ],
   "source": [
    "# Dictionary compre from list\n",
    "\n",
    "l = [1,2,3,4,5]\n",
    "dl = {i:i**2 for i in l}\n",
    "print(dl)"
   ]
  },
  {
   "cell_type": "code",
   "execution_count": 30,
   "metadata": {},
   "outputs": [
    {
     "name": "stdout",
     "output_type": "stream",
     "text": [
      "{'S': 'SSS', 'N': 'NNN', 'E': 'EEE', 'H': 'HHH', 'A': 'AAA', 'L': 'LLL'}\n"
     ]
    }
   ],
   "source": [
    "# Dictionary compre from string\n",
    "\n",
    "str = 'SNEHAL'\n",
    "ds = {s:s*3 for s in str}\n",
    "print(ds)"
   ]
  },
  {
   "cell_type": "code",
   "execution_count": 31,
   "metadata": {},
   "outputs": [
    {
     "name": "stdout",
     "output_type": "stream",
     "text": [
      "{0: 0, 2: 4, 4: 16, 6: 36, 8: 64}\n"
     ]
    }
   ],
   "source": [
    "d = {i:i**2 for i in range(10) if i%2==0}\n",
    "print(d)"
   ]
  },
  {
   "cell_type": "code",
   "execution_count": 37,
   "metadata": {},
   "outputs": [
    {
     "name": "stdout",
     "output_type": "stream",
     "text": [
      "Dict with values as lists..\n",
      "11 [11, 22, 33, 44, 55, 66, 77, 88, 99, 110]\n",
      "12 [12, 24, 36, 48, 60, 72, 84, 96, 108, 120]\n",
      "13 [13, 26, 39, 52, 65, 78, 91, 104, 117, 130]\n",
      "14 [14, 28, 42, 56, 70, 84, 98, 112, 126, 140]\n",
      "15 [15, 30, 45, 60, 75, 90, 105, 120, 135, 150]\n",
      "16 [16, 32, 48, 64, 80, 96, 112, 128, 144, 160]\n",
      "17 [17, 34, 51, 68, 85, 102, 119, 136, 153, 170]\n",
      "18 [18, 36, 54, 72, 90, 108, 126, 144, 162, 180]\n",
      "19 [19, 38, 57, 76, 95, 114, 133, 152, 171, 190]\n",
      "20 [20, 40, 60, 80, 100, 120, 140, 160, 180, 200]\n"
     ]
    }
   ],
   "source": [
    "# Nested Dictionary\n",
    "\n",
    "print('Dict with values as lists..')\n",
    "dl = {i:[i*d for d in range(1,11)] for i in range(11, 21)}\n",
    "\n",
    "for (k,v) in dl.items():\n",
    "    print(k, v)"
   ]
  },
  {
   "cell_type": "code",
   "execution_count": 36,
   "metadata": {},
   "outputs": [
    {
     "name": "stdout",
     "output_type": "stream",
     "text": [
      "Dict with values as dicts..\n",
      "11 {1: 11, 2: 22, 3: 33, 4: 44, 5: 55, 6: 66, 7: 77, 8: 88, 9: 99, 10: 110}\n",
      "12 {1: 12, 2: 24, 3: 36, 4: 48, 5: 60, 6: 72, 7: 84, 8: 96, 9: 108, 10: 120}\n",
      "13 {1: 13, 2: 26, 3: 39, 4: 52, 5: 65, 6: 78, 7: 91, 8: 104, 9: 117, 10: 130}\n",
      "14 {1: 14, 2: 28, 3: 42, 4: 56, 5: 70, 6: 84, 7: 98, 8: 112, 9: 126, 10: 140}\n",
      "15 {1: 15, 2: 30, 3: 45, 4: 60, 5: 75, 6: 90, 7: 105, 8: 120, 9: 135, 10: 150}\n",
      "16 {1: 16, 2: 32, 3: 48, 4: 64, 5: 80, 6: 96, 7: 112, 8: 128, 9: 144, 10: 160}\n",
      "17 {1: 17, 2: 34, 3: 51, 4: 68, 5: 85, 6: 102, 7: 119, 8: 136, 9: 153, 10: 170}\n",
      "18 {1: 18, 2: 36, 3: 54, 4: 72, 5: 90, 6: 108, 7: 126, 8: 144, 9: 162, 10: 180}\n",
      "19 {1: 19, 2: 38, 3: 57, 4: 76, 5: 95, 6: 114, 7: 133, 8: 152, 9: 171, 10: 190}\n",
      "20 {1: 20, 2: 40, 3: 60, 4: 80, 5: 100, 6: 120, 7: 140, 8: 160, 9: 180, 10: 200}\n"
     ]
    }
   ],
   "source": [
    "print('Dict with values as dicts..')\n",
    "dd = {i:{d:i*d for d in range(1,11)} for i in range(11, 21)}\n",
    "\n",
    "for (k,v) in dd.items():\n",
    "    print(k, v)"
   ]
  },
  {
   "cell_type": "code",
   "execution_count": 40,
   "metadata": {},
   "outputs": [
    {
     "name": "stdout",
     "output_type": "stream",
     "text": [
      "A {1: 'A', 2: 'AA', 3: 'AAA', 4: 'AAAA'}\n",
      "B {1: 'B', 2: 'BB', 3: 'BBB', 4: 'BBBB'}\n",
      "C {1: 'C', 2: 'CC', 3: 'CCC', 4: 'CCCC'}\n",
      "D {1: 'D', 2: 'DD', 3: 'DDD', 4: 'DDDD'}\n"
     ]
    }
   ],
   "source": [
    "# Dict with values as strings\n",
    "\n",
    "ds = {i:{d:d*i for d in range(1,5)} for i in 'ABCD'}\n",
    "\n",
    "for (k,v) in ds.items():\n",
    "    print(k, v)"
   ]
  },
  {
   "cell_type": "code",
   "execution_count": 7,
   "metadata": {},
   "outputs": [
    {
     "name": "stdout",
     "output_type": "stream",
     "text": [
      "4\n",
      "True\n",
      "False\n",
      "False\n",
      "True\n",
      "[0, 1, 2, 3]\n",
      "[3, 2, 1, 0]\n"
     ]
    }
   ],
   "source": [
    "# Dict Functions - len, any, all, sorted\n",
    "\n",
    "d = {2:'Sv', 0:'Sn', 1:'Kl', 3:'Sh'}\n",
    "e = {}\n",
    "print(len(d))\n",
    "print(any(d))\n",
    "print(any(e))\n",
    "print(all(d))\n",
    "print(all(e))\n",
    "print(sorted(d))\n",
    "print(sorted(d, reverse=True))"
   ]
  },
  {
   "cell_type": "code",
   "execution_count": null,
   "metadata": {},
   "outputs": [],
   "source": [
    "# Dict methods - clear(), pop(), popitem, keys, items, get, update, values, has_key\n",
    "\n"
   ]
  }
 ],
 "metadata": {
  "kernelspec": {
   "display_name": "Python 3",
   "language": "python",
   "name": "python3"
  },
  "language_info": {
   "codemirror_mode": {
    "name": "ipython",
    "version": 3
   },
   "file_extension": ".py",
   "mimetype": "text/x-python",
   "name": "python",
   "nbconvert_exporter": "python",
   "pygments_lexer": "ipython3",
   "version": "3.11.3"
  },
  "orig_nbformat": 4
 },
 "nbformat": 4,
 "nbformat_minor": 2
}
