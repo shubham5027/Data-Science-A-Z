{
 "cells": [
  {
   "attachments": {},
   "cell_type": "markdown",
   "metadata": {},
   "source": [
    "# **Functions**"
   ]
  },
  {
   "cell_type": "code",
   "execution_count": 1,
   "metadata": {},
   "outputs": [],
   "source": [
    "# Create user-defined function\n",
    "def greet():\n",
    "    print('Hello World...')"
   ]
  },
  {
   "cell_type": "code",
   "execution_count": 2,
   "metadata": {},
   "outputs": [
    {
     "name": "stdout",
     "output_type": "stream",
     "text": [
      "Hello World...\n"
     ]
    }
   ],
   "source": [
    "# Function Calling\n",
    "def greet():\n",
    "    print('Hello World...')\n",
    "\n",
    "greet()"
   ]
  },
  {
   "cell_type": "code",
   "execution_count": 3,
   "metadata": {},
   "outputs": [
    {
     "name": "stdout",
     "output_type": "stream",
     "text": [
      "35\n"
     ]
    }
   ],
   "source": [
    "# Function with parameter\n",
    "def addition(n1,n2):\n",
    "    print(n1+n2)\n",
    "\n",
    "addition(12,23)"
   ]
  },
  {
   "cell_type": "code",
   "execution_count": 5,
   "metadata": {},
   "outputs": [
    {
     "name": "stdout",
     "output_type": "stream",
     "text": [
      "Before function: 10\n",
      "In function: 11\n",
      "After function: 10\n"
     ]
    }
   ],
   "source": [
    "# Call by value - immutable data types are called by value\n",
    "def increment(n):\n",
    "    n += 1\n",
    "    print('In function: '+str(n))\n",
    "\n",
    "n=10\n",
    "print('Before function: '+str(n))\n",
    "increment(n)\n",
    "print('After function: '+str(n))"
   ]
  },
  {
   "cell_type": "code",
   "execution_count": 6,
   "metadata": {},
   "outputs": [
    {
     "name": "stdout",
     "output_type": "stream",
     "text": [
      "Before function: [1, 2, 3, 4]\n",
      "In function: [1, 2, 3, 4, 1234]\n",
      "After function: [1, 2, 3, 4, 1234]\n"
     ]
    }
   ],
   "source": [
    "# Call by reference - all mutable data type values are called by reference\n",
    "def do(lst):\n",
    "    lst.append(1234)\n",
    "    print('In function:',lst)\n",
    "\n",
    "lst = [1,2,3,4]\n",
    "print('Before function:',lst)\n",
    "do(lst)\n",
    "print('After function:',lst)"
   ]
  },
  {
   "cell_type": "code",
   "execution_count": 22,
   "metadata": {},
   "outputs": [
    {
     "name": "stdout",
     "output_type": "stream",
     "text": [
      "22\n"
     ]
    }
   ],
   "source": [
    "# return statement\n",
    "def adds(n1,n2):\n",
    "    return n1+n2\n",
    "\n",
    "print(adds(10,12))"
   ]
  },
  {
   "attachments": {},
   "cell_type": "markdown",
   "metadata": {},
   "source": [
    "# **Types of Function Arguments:**"
   ]
  },
  {
   "attachments": {},
   "cell_type": "markdown",
   "metadata": {},
   "source": [
    "> 1. Default Arguments"
   ]
  },
  {
   "cell_type": "code",
   "execution_count": 7,
   "metadata": {},
   "outputs": [
    {
     "name": "stdout",
     "output_type": "stream",
     "text": [
      "10 + 50 = 60\n",
      "10 + 10 = 20\n"
     ]
    }
   ],
   "source": [
    "def adds(n1,n2=50):\n",
    "    print(n1,'+',n2,'=',n1+n2)\n",
    "\n",
    "adds(10)\n",
    "adds(10,10)"
   ]
  },
  {
   "attachments": {},
   "cell_type": "markdown",
   "metadata": {},
   "source": [
    "> 2. Keyword Arguments"
   ]
  },
  {
   "cell_type": "code",
   "execution_count": 8,
   "metadata": {},
   "outputs": [
    {
     "name": "stdout",
     "output_type": "stream",
     "text": [
      "21 snehal sarud\n",
      "21 snehal sarud\n",
      "21 snehal sarud\n",
      "21 snehal sarud\n"
     ]
    }
   ],
   "source": [
    "def prints(age,name,addr):\n",
    "    print(age,name,addr)\n",
    "\n",
    "prints(21,'snehal','sarud')\n",
    "prints(age=21,name='snehal',addr='sarud')\n",
    "prints(name='snehal',age=21,addr='sarud')\n",
    "prints(addr='sarud',age=21,name='snehal')"
   ]
  },
  {
   "attachments": {},
   "cell_type": "markdown",
   "metadata": {},
   "source": [
    "> 3. Positional Arguments"
   ]
  },
  {
   "cell_type": "code",
   "execution_count": 9,
   "metadata": {},
   "outputs": [
    {
     "name": "stdout",
     "output_type": "stream",
     "text": [
      "21 snehal\n",
      "snehal 21\n"
     ]
    }
   ],
   "source": [
    "def prints(age,name):\n",
    "    print(age,name)\n",
    "\n",
    "prints(21,'snehal')\n",
    "prints('snehal',21)"
   ]
  },
  {
   "attachments": {},
   "cell_type": "markdown",
   "metadata": {},
   "source": [
    "> 4. Arbitrary Arguments\n",
    "    \n",
    "    i) args"
   ]
  },
  {
   "cell_type": "code",
   "execution_count": 2,
   "metadata": {},
   "outputs": [
    {
     "name": "stdout",
     "output_type": "stream",
     "text": [
      "14\n",
      "23\n",
      "36\n"
     ]
    },
    {
     "ename": "TypeError",
     "evalue": "sums() missing 1 required positional argument: 'n1'",
     "output_type": "error",
     "traceback": [
      "\u001b[1;31m---------------------------------------------------------------------------\u001b[0m",
      "\u001b[1;31mTypeError\u001b[0m                                 Traceback (most recent call last)",
      "Cell \u001b[1;32mIn[2], line 10\u001b[0m\n\u001b[0;32m      8\u001b[0m sums(\u001b[39m1\u001b[39m,\u001b[39m2\u001b[39m,\u001b[39m3\u001b[39m,\u001b[39m4\u001b[39m,\u001b[39m5\u001b[39m,\u001b[39m4\u001b[39m,\u001b[39m5\u001b[39m)\n\u001b[0;32m      9\u001b[0m sums(\u001b[39m1\u001b[39m,\u001b[39m2\u001b[39m,\u001b[39m3\u001b[39m,\u001b[39m4\u001b[39m,\u001b[39m5\u001b[39m,\u001b[39m4\u001b[39m,\u001b[39m5\u001b[39m,\u001b[39m6\u001b[39m,\u001b[39m7\u001b[39m)\n\u001b[1;32m---> 10\u001b[0m sums()\n",
      "\u001b[1;31mTypeError\u001b[0m: sums() missing 1 required positional argument: 'n1'"
     ]
    }
   ],
   "source": [
    "def sums(n1, *args):\n",
    "    s=0\n",
    "    for i in args:\n",
    "        s += i\n",
    "    print(s)\n",
    "\n",
    "sums(1,2,3,4,5)\n",
    "sums(1,2,3,4,5,4,5)\n",
    "sums(1,2,3,4,5,4,5,6,7)\n",
    "sums()"
   ]
  },
  {
   "attachments": {},
   "cell_type": "markdown",
   "metadata": {},
   "source": [
    "    ii) kwargs"
   ]
  },
  {
   "cell_type": "code",
   "execution_count": 4,
   "metadata": {},
   "outputs": [
    {
     "name": "stdout",
     "output_type": "stream",
     "text": [
      "{'name': 'snehal'}\n",
      "\n",
      "{'name': 'snehal', 'age': 21}\n",
      "\n",
      "{'name': 'snehal', 'age': 21, 'addr': 'sarud'}\n",
      "\n"
     ]
    }
   ],
   "source": [
    "def info(**kwargs):\n",
    "    print(kwargs)\n",
    "    # for i in kwargs.items():\n",
    "    #     print(i)\n",
    "    print()\n",
    "\n",
    "info(name='snehal')\n",
    "info(name='snehal',age=21)\n",
    "info(name='snehal',age=21,addr='sarud')"
   ]
  },
  {
   "attachments": {},
   "cell_type": "markdown",
   "metadata": {},
   "source": [
    "# **Doc String**"
   ]
  },
  {
   "cell_type": "code",
   "execution_count": 14,
   "metadata": {},
   "outputs": [
    {
     "name": "stdout",
     "output_type": "stream",
     "text": [
      "Function returns concatenated string\n"
     ]
    }
   ],
   "source": [
    "def adds(s1,s2):\n",
    "    '''Function returns concatenated string'''\n",
    "    s = s1+s2\n",
    "    return s\n",
    "\n",
    "print(adds.__doc__)"
   ]
  },
  {
   "attachments": {},
   "cell_type": "markdown",
   "metadata": {},
   "source": [
    "# **Function within Function**"
   ]
  },
  {
   "cell_type": "code",
   "execution_count": 5,
   "metadata": {},
   "outputs": [
    {
     "name": "stdout",
     "output_type": "stream",
     "text": [
      "Function 1 body..\n",
      "Function 2 body..\n",
      "Function 1 body..\n"
     ]
    },
    {
     "ename": "NameError",
     "evalue": "name 'f2' is not defined",
     "output_type": "error",
     "traceback": [
      "\u001b[1;31m---------------------------------------------------------------------------\u001b[0m",
      "\u001b[1;31mNameError\u001b[0m                                 Traceback (most recent call last)",
      "Cell \u001b[1;32mIn[5], line 9\u001b[0m\n\u001b[0;32m      6\u001b[0m     \u001b[39mprint\u001b[39m(\u001b[39m'\u001b[39m\u001b[39mFunction 1 body..\u001b[39m\u001b[39m'\u001b[39m)\n\u001b[0;32m      8\u001b[0m f1()\n\u001b[1;32m----> 9\u001b[0m f2()\n",
      "\u001b[1;31mNameError\u001b[0m: name 'f2' is not defined"
     ]
    }
   ],
   "source": [
    "def f1():\n",
    "    print('Function 1 body..')\n",
    "    def f2():\n",
    "        print('Function 2 body..')\n",
    "    f2()\n",
    "    print('Function 1 body..')\n",
    "\n",
    "f1()\n",
    "f2()"
   ]
  },
  {
   "attachments": {},
   "cell_type": "markdown",
   "metadata": {},
   "source": [
    "# **Anonymous (lambda) Function**"
   ]
  },
  {
   "cell_type": "code",
   "execution_count": 17,
   "metadata": {},
   "outputs": [
    {
     "name": "stdout",
     "output_type": "stream",
     "text": [
      "100\n"
     ]
    }
   ],
   "source": [
    "sqr = lambda x:x**2\n",
    "print(sqr(10))"
   ]
  },
  {
   "cell_type": "code",
   "execution_count": 19,
   "metadata": {},
   "outputs": [
    {
     "name": "stdout",
     "output_type": "stream",
     "text": [
      "20\n"
     ]
    }
   ],
   "source": [
    "adds = lambda x:x+10\n",
    "print(adds(10))"
   ]
  },
  {
   "cell_type": "code",
   "execution_count": 21,
   "metadata": {},
   "outputs": [
    {
     "name": "stdout",
     "output_type": "stream",
     "text": [
      "True\n",
      "False\n"
     ]
    }
   ],
   "source": [
    "even = lambda a:a%2==0\n",
    "print(even(10))\n",
    "print(even(13))"
   ]
  },
  {
   "attachments": {},
   "cell_type": "markdown",
   "metadata": {},
   "source": [
    "# **Variable Scope**"
   ]
  },
  {
   "cell_type": "code",
   "execution_count": 27,
   "metadata": {},
   "outputs": [
    {
     "name": "stdout",
     "output_type": "stream",
     "text": [
      "10 20\n",
      "10 10 12\n",
      "20\n",
      "10 20\n"
     ]
    }
   ],
   "source": [
    "n,m = 10,20\n",
    "print(n,m)\n",
    "\n",
    "def func(n):\n",
    "    a = 10\n",
    "    global b\n",
    "    b=12\n",
    "    print(a,n,b)  \n",
    "    print(m)\n",
    "\n",
    "func(n)\n",
    "print(n,m)\n",
    "# print(a,n,b) # NameError: name 'a' is not defined"
   ]
  },
  {
   "attachments": {},
   "cell_type": "markdown",
   "metadata": {},
   "source": [
    "# **yield vs return**"
   ]
  },
  {
   "cell_type": "code",
   "execution_count": 29,
   "metadata": {},
   "outputs": [
    {
     "name": "stdout",
     "output_type": "stream",
     "text": [
      "1\n"
     ]
    }
   ],
   "source": [
    "# return\n",
    "\n",
    "def fun1(n):\n",
    "    for i in range(1,n):\n",
    "        return i**2\n",
    "\n",
    "print(fun1(5))"
   ]
  },
  {
   "cell_type": "code",
   "execution_count": 31,
   "metadata": {},
   "outputs": [
    {
     "name": "stdout",
     "output_type": "stream",
     "text": [
      "[1, 4, 9, 16]\n"
     ]
    }
   ],
   "source": [
    "# yield\n",
    "\n",
    "def fun2(n):\n",
    "    for i in range(1,n):\n",
    "        yield i**2\n",
    "\n",
    "print(list(fun2(5)))"
   ]
  }
 ],
 "metadata": {
  "kernelspec": {
   "display_name": "Python 3",
   "language": "python",
   "name": "python3"
  },
  "language_info": {
   "codemirror_mode": {
    "name": "ipython",
    "version": 3
   },
   "file_extension": ".py",
   "mimetype": "text/x-python",
   "name": "python",
   "nbconvert_exporter": "python",
   "pygments_lexer": "ipython3",
   "version": "3.11.3"
  },
  "orig_nbformat": 4
 },
 "nbformat": 4,
 "nbformat_minor": 2
}
