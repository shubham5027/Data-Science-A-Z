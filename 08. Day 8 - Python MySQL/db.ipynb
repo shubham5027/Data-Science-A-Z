{
 "cells": [
  {
   "cell_type": "markdown",
   "metadata": {},
   "source": [
    "# **Python MySQL**\n",
    "\n",
    "----"
   ]
  },
  {
   "cell_type": "markdown",
   "metadata": {},
   "source": [
    "> **Python MySQL Connector:** Driver that helps to integrate Python and MySQL database."
   ]
  },
  {
   "cell_type": "markdown",
   "metadata": {},
   "source": [
    "> **Install MySQL Connector using PIP:** Use the following command:\n",
    "\n",
    "    pip install mysql-connector-python"
   ]
  },
  {
   "cell_type": "markdown",
   "metadata": {},
   "source": [
    "> **Import mysql Module:**"
   ]
  },
  {
   "cell_type": "code",
   "execution_count": null,
   "metadata": {},
   "outputs": [],
   "source": [
    "import mysql.connector"
   ]
  },
  {
   "cell_type": "markdown",
   "metadata": {},
   "source": [
    "# **Connect to Server**\n",
    "\n",
    "----"
   ]
  },
  {
   "cell_type": "markdown",
   "metadata": {},
   "source": [
    "> **Connect to the Database Server:** We can connect to MySQL server using the **connect()** method from mysql.connector module."
   ]
  },
  {
   "cell_type": "markdown",
   "metadata": {},
   "source": [
    "> **Syntax:**\n",
    "\n",
    "        import mysql.connector\n",
    "        my_db = mysql.connector.connect(\n",
    "          host = 'host_name',\n",
    "          user = 'user_name',\n",
    "          password = 'your_password',\n",
    "          database = 'database_name'\n",
    "        )"
   ]
  },
  {
   "cell_type": "code",
   "execution_count": null,
   "metadata": {},
   "outputs": [],
   "source": [
    "import mysql.connector\n",
    "\n",
    "mydb = mysql.connector.connect(\n",
    "    host=\"host_name\",\n",
    "    user=\"user_name\",\n",
    "    password=\"your_password\",\n",
    "    database=\"database_name\"\n",
    ")\n",
    "\n",
    "print(mydb)"
   ]
  },
  {
   "cell_type": "markdown",
   "metadata": {},
   "source": [
    "# **CREATE Database and Table**\n",
    "\n",
    "----"
   ]
  },
  {
   "cell_type": "markdown",
   "metadata": {},
   "source": [
    "> **Create a database:** First, have to create cursor object & pass SQL commands to execute() method, as string arguments.\n",
    "\n",
    "> SQL command to create database : \n",
    "        \n",
    "        CREATE DATABASE database_name"
   ]
  },
  {
   "cell_type": "code",
   "execution_count": null,
   "metadata": {},
   "outputs": [],
   "source": [
    "# Preparing cursor object\n",
    "mycursor = mydb.cursor()\n",
    "\n",
    "mycursor.execute(\"CREATE DATABASE py_db\")"
   ]
  },
  {
   "cell_type": "markdown",
   "metadata": {},
   "source": [
    "> **List databases in the system:** \n",
    "\n",
    "* SQL Query to list database names:\n",
    "\n",
    "        SHOW DATABASES"
   ]
  },
  {
   "cell_type": "code",
   "execution_count": null,
   "metadata": {},
   "outputs": [],
   "source": [
    "mycursor = mydb.cursor()\n",
    "\n",
    "mycursor.execute(\"SHOW DATABASES\")\n",
    "\n",
    "for x in mycursor:\n",
    "  print(x)"
   ]
  },
  {
   "cell_type": "markdown",
   "metadata": {},
   "source": [
    "> **USE database:**\n",
    "\n",
    "* SQL query to select database:\n",
    "\n",
    "        USE database_name"
   ]
  },
  {
   "cell_type": "code",
   "execution_count": null,
   "metadata": {},
   "outputs": [],
   "source": [
    "use_q = 'USE py_db'\n",
    "\n",
    "mycursor.execute(use_q)"
   ]
  },
  {
   "cell_type": "markdown",
   "metadata": {},
   "source": [
    "> **CREATE table:**\n",
    "\n",
    "* SQL query to Create database:\n",
    "\n",
    "        CREATE TABLE (\n",
    "          col_1_name col_1_data_type,\n",
    "          col_2_name col_2_data_type,\n",
    "          .\n",
    "          .\n",
    "          .\n",
    "          col_n_name col_n_data_type,\n",
    "        )"
   ]
  },
  {
   "cell_type": "code",
   "execution_count": null,
   "metadata": {},
   "outputs": [],
   "source": [
    "create_q = 'CREATE TABLE emp(id INT AUTO_INCREMENT PRIMARY KEY, name VARCHAR(20), addr VARCHAR(20))'\n",
    "\n",
    "mycursor.execute(create_q)\n",
    "\n",
    "mycursor.execute('SHOW TABLES')\n",
    "\n",
    "mycursor.execute('DESC emp')"
   ]
  },
  {
   "cell_type": "markdown",
   "metadata": {},
   "source": [
    "# **SELECT**\n",
    "\n",
    "----"
   ]
  },
  {
   "cell_type": "markdown",
   "metadata": {},
   "source": [
    "> **SELECT Query:**\n",
    "\n",
    "* SQL Query to select all data from the table:\n",
    "\n",
    "        SELECT * FROM table_name;"
   ]
  },
  {
   "cell_type": "code",
   "execution_count": null,
   "metadata": {},
   "outputs": [],
   "source": [
    "mycursor.execute('SELECT * FROM emp')\n",
    "\n",
    "for x in mycursor:\n",
    "  print(x)"
   ]
  },
  {
   "cell_type": "markdown",
   "metadata": {},
   "source": [
    "> **db_obj.fetchall():** Method fetches all the records from the table."
   ]
  },
  {
   "cell_type": "code",
   "execution_count": null,
   "metadata": {},
   "outputs": [],
   "source": [
    "mycursor.execute('SELECT * FROM emp')\n",
    "\n",
    "myresult = mycursor.fetchall()\n",
    "\n",
    "for x in myresult:\n",
    "  print(x)"
   ]
  },
  {
   "cell_type": "markdown",
   "metadata": {},
   "source": [
    "> **db_obj.fetchone():** Method fetches first row of the result obtained."
   ]
  },
  {
   "cell_type": "code",
   "execution_count": null,
   "metadata": {},
   "outputs": [],
   "source": [
    "mycursor.execute('SELECT * FROM emp')\n",
    "\n",
    "myresult = mycursor.fetchone()\n",
    "\n",
    "for x in myresult:\n",
    "  print(x)"
   ]
  },
  {
   "cell_type": "markdown",
   "metadata": {},
   "source": [
    "> **Selecting particular columns from the table:**\n",
    "\n",
    "* To select only some of the columns in a table, use the \"SELECT\" statement followed by the column_names_list to be selected.\n",
    "\n",
    "* SQL Query to select columns:\n",
    "\n",
    "        SELECT col_names_list FROM table_name;"
   ]
  },
  {
   "cell_type": "code",
   "execution_count": null,
   "metadata": {},
   "outputs": [],
   "source": [
    "mycursor.execute('SELECT id, name FROM emp')\n",
    "\n",
    "for x in mycursor:\n",
    "  print(x)"
   ]
  },
  {
   "cell_type": "markdown",
   "metadata": {},
   "source": [
    "> **WHERE Clause:** Used to select records by applying filter.\n",
    "\n",
    "* When selecting records from a table, you can filter selection by using the \"WHERE\" statement:\n",
    "\n",
    "        SELECT * FROM table_name WHERE <condition to be applied>;"
   ]
  },
  {
   "cell_type": "code",
   "execution_count": null,
   "metadata": {},
   "outputs": [],
   "source": [
    "mycursor.execute('SELECT id, name FROM emp WHERE id = 5')\n",
    "print(mycursor)\n",
    "\n",
    "\n",
    "mycursor.execute('SELECT id, name FROM emp WHERE name = \"kop\"')\n",
    "print(mycursor)"
   ]
  },
  {
   "cell_type": "markdown",
   "metadata": {},
   "source": [
    "> **Wildcard Character:** Can select records that starts, includes or ends given letter or phrase."
   ]
  },
  {
   "cell_type": "code",
   "execution_count": null,
   "metadata": {},
   "outputs": [],
   "source": [
    "sql = \"SELECT * FROM emp WHERE name LIKE 's%'\"\n",
    "mycursor.execute(sql)\n",
    "\n",
    "for x in mycursor:\n",
    "  print(x)"
   ]
  },
  {
   "cell_type": "markdown",
   "metadata": {},
   "source": [
    "> **SQL Injections:**"
   ]
  },
  {
   "cell_type": "code",
   "execution_count": null,
   "metadata": {},
   "outputs": [],
   "source": [
    "sql = \"SELECT * FROM customers WHERE address = %s\"\n",
    "adr = (\"Yellow Garden 2\", )\n",
    "\n",
    "mycursor.execute(sql, adr)\n",
    "\n",
    "myresult = mycursor.fetchall()\n",
    "\n",
    "for x in myresult:\n",
    "  print(x)"
   ]
  },
  {
   "cell_type": "markdown",
   "metadata": {},
   "source": [
    "# **INSERT**\n",
    "\n",
    "----"
   ]
  },
  {
   "cell_type": "markdown",
   "metadata": {},
   "source": [
    "> **Note:** my_db.commit() is required to make permanent changes, otherwise changes are not reflected permanently to the database table."
   ]
  },
  {
   "cell_type": "markdown",
   "metadata": {},
   "source": [
    "> **Simple Query to INSERT INTO the table:**\n",
    "\n",
    "* SQL Query to insert data into table using the **INSERT INTO** Query:\n",
    "\n",
    "        INSERT INTO table_name (col_names_list) VALUES (data)"
   ]
  },
  {
   "cell_type": "code",
   "execution_count": null,
   "metadata": {},
   "outputs": [],
   "source": [
    "q = 'INSERT INTO emp(id, name, addr) VALUES(1, \"snehal\", \"kop\")'\n",
    "mycursor.execute(q)\n",
    "\n",
    "# Number of rows inserted\n",
    "print(mycursor.rowcount)\n",
    "\n",
    "# Id of the row inserted\n",
    "print(mycursor.lastrowid)"
   ]
  },
  {
   "cell_type": "markdown",
   "metadata": {},
   "source": [
    "> **INSERT INTO table:**"
   ]
  },
  {
   "cell_type": "code",
   "execution_count": null,
   "metadata": {},
   "outputs": [],
   "source": [
    "sql = \"INSERT INTO emp (id, name, addr) VALUES (%s, %s, %s)\"\n",
    "\n",
    "val = (2, 'shiv', 'kop')\n",
    "\n",
    "mycursor.execute(sql, val)\n",
    "\n",
    "mydb.commit()\n",
    "\n",
    "print(mycursor.rowcount, \"record inserted.\")"
   ]
  },
  {
   "cell_type": "markdown",
   "metadata": {},
   "source": [
    "> **INSERT multiple values from the list:**"
   ]
  },
  {
   "cell_type": "code",
   "execution_count": null,
   "metadata": {},
   "outputs": [],
   "source": [
    "vals = [\n",
    "    (3, 'shubh', 'panhala'),\n",
    "    (4, 'kal', 'kop'),\n",
    "    (5, 'mankar', 'sarud')\n",
    "]\n",
    "\n",
    "mycursor.executemany(sql, vals)\n",
    "\n",
    "mydb.commit()\n",
    "\n",
    "print(mycursor.rowcount, \"record inserted.\")"
   ]
  },
  {
   "cell_type": "markdown",
   "metadata": {},
   "source": [
    "# **Sort**\n",
    "\n",
    "----"
   ]
  },
  {
   "cell_type": "markdown",
   "metadata": {},
   "source": [
    "* We can use \"ORDER BY\" statement to sort result in ascending / descending order.\n",
    "\n",
    "* **ORDER BY** sorts result in ascending order, by default.\n",
    "\n",
    "* SQL Query to select results using \"ORDER BY\" Clause:\n",
    "\n",
    "        SELECT * FROM table_name ORDER BY col_name"
   ]
  },
  {
   "cell_type": "markdown",
   "metadata": {},
   "source": [
    "> **Sort the Result:**"
   ]
  },
  {
   "cell_type": "code",
   "execution_count": null,
   "metadata": {},
   "outputs": [],
   "source": [
    "sql = \"SELECT * FROM customers ORDER BY age\"\n",
    "\n",
    "mycursor.execute(sql)\n",
    "\n",
    "myresult = mycursor.fetchall()\n",
    "\n",
    "for x in myresult:\n",
    "  print(x)"
   ]
  },
  {
   "cell_type": "markdown",
   "metadata": {},
   "source": [
    "> **ORDER BY DESC:**\n",
    "\n",
    "* We can use **DESC** keyword, to sort the results in descending order.\n",
    "\n",
    "* SQL Query to select results using \"ORDER BY DESC\" Clause:\n",
    "\n",
    "        SELECT * FROM table_name ORDER BY col_name DESC"
   ]
  },
  {
   "cell_type": "code",
   "execution_count": null,
   "metadata": {},
   "outputs": [],
   "source": [
    "sql = \"SELECT * FROM customers ORDER BY age DESC\"\n",
    "\n",
    "mycursor.execute(sql)\n",
    "\n",
    "myresult = mycursor.fetchall()\n",
    "\n",
    "for x in myresult:\n",
    "  print(x)"
   ]
  },
  {
   "cell_type": "markdown",
   "metadata": {},
   "source": [
    "# **DELETE**\n",
    "\n",
    "----"
   ]
  },
  {
   "cell_type": "markdown",
   "metadata": {},
   "source": [
    "> **DELETE a Record:** We can delete selected records from the table using \"WHERE\" clause.\n",
    "\n",
    "* SQL Query to delete selective records from the table:\n",
    "\n",
    "          DELETE FROM <table_name> WHERE <condition>;"
   ]
  },
  {
   "cell_type": "code",
   "execution_count": null,
   "metadata": {},
   "outputs": [],
   "source": [
    "del_q = 'DELETE FROM emp WHERE id = 4'\n",
    "mycursor.execute(del_q)\n",
    "mydb.commit()\n",
    "\n",
    "print(mycursor.rowcount, \"record(s) deleted\")"
   ]
  },
  {
   "cell_type": "markdown",
   "metadata": {},
   "source": [
    "> **DELETE all the Records from Table:** If we not specify any condition, it deletes all the records from the table.\n",
    "\n",
    "* SQL Query to delete all records from the table:\n",
    "\n",
    "        DELETE FROM <table_name> WHERE <condition>;"
   ]
  },
  {
   "cell_type": "code",
   "execution_count": null,
   "metadata": {},
   "outputs": [],
   "source": [
    "del_q = 'DELETE FROM emp'\n",
    "mycursor.execute(del_q)\n",
    "mydb.commit()\n",
    "\n",
    "print(mycursor.rowcount, \"record(s) deleted\")"
   ]
  },
  {
   "cell_type": "markdown",
   "metadata": {},
   "source": [
    "> **DROP a table:**\n",
    "\n",
    "* Delete the table from database using the following SQL Command:\n",
    "\n",
    "        DROP TABLE <table_name>"
   ]
  },
  {
   "cell_type": "code",
   "execution_count": null,
   "metadata": {},
   "outputs": [],
   "source": [
    "sql = \"DROP TABLE emp\"\n",
    "\n",
    "mycursor.execute(sql)"
   ]
  },
  {
   "cell_type": "markdown",
   "metadata": {},
   "source": [
    "> **Drop Table Only if Exist:**\n",
    "\n",
    "* SQL Query to delete table, only if table exist:\n",
    "\n",
    "        DROP TABLE IF EXISTS <table_name>"
   ]
  },
  {
   "cell_type": "code",
   "execution_count": null,
   "metadata": {},
   "outputs": [],
   "source": [
    "sql = \"DROP TABLE IF EXISTS emp\"\n",
    "mycursor.execute(sql)"
   ]
  },
  {
   "cell_type": "markdown",
   "metadata": {},
   "source": [
    "# **UPDATE**\n",
    "\n",
    "----"
   ]
  },
  {
   "cell_type": "markdown",
   "metadata": {},
   "source": [
    "> **Update Table:**\n",
    "\n",
    "* We can update selective records using SET keyword.\n",
    "\n",
    "* SQL Query to Update records:\n",
    "\n",
    "        UPDATE <table_name> SET <col_name> = <val> WHERE <condition>;"
   ]
  },
  {
   "cell_type": "code",
   "execution_count": null,
   "metadata": {},
   "outputs": [],
   "source": [
    "sql = 'UPDATE emp SET addr=\"pune\" WHERE addr=\"kop\"'\n",
    "mydb.commit()\n",
    "mycursor.execute(sql)\n",
    "print(mycursor.rowcount, \"record(s) updated..\")"
   ]
  },
  {
   "cell_type": "markdown",
   "metadata": {},
   "source": [
    "> **Update table using SLQ Injection:**"
   ]
  },
  {
   "cell_type": "code",
   "execution_count": null,
   "metadata": {},
   "outputs": [],
   "source": [
    "sql = 'UPDATE emp SET addr=%s WHERE addr=%s'\n",
    "val = ('pune','kop')\n",
    "\n",
    "mycursor.execute(sql)\n",
    "print(mycursor.rowcount, \"record(s) updated..\")"
   ]
  },
  {
   "cell_type": "markdown",
   "metadata": {},
   "source": [
    "# **Other SQL Queries**\n",
    "\n",
    "----"
   ]
  },
  {
   "cell_type": "markdown",
   "metadata": {},
   "source": [
    "> **Limit the Result:** Can limit number of records returned from the query.\n",
    "\n",
    "* SQL Query to Limit results:\n",
    "\n",
    "        SELECT <col_names_list> FROM <table_name> LIMIT <num_of_records_to_fetch>"
   ]
  },
  {
   "cell_type": "code",
   "execution_count": null,
   "metadata": {},
   "outputs": [],
   "source": [
    "mycursor.execute(\"SELECT * FROM customers LIMIT 5\")\n",
    "myresult = mycursor.fetchall()\n",
    "\n",
    "for x in myresult:\n",
    "  print(x)"
   ]
  },
  {
   "cell_type": "markdown",
   "metadata": {},
   "source": [
    "> **Start From Another Position:** OFFSET keyword can be used to start position from a different record.\n",
    "\n",
    "* SQL Query for OFFSET:\n",
    "\n",
    "        SELECT <col_names_list> FROM <table_name> OFFSET <start_index>;"
   ]
  },
  {
   "cell_type": "code",
   "execution_count": null,
   "metadata": {},
   "outputs": [],
   "source": [
    "mycursor.execute(\"SELECT * FROM emp LIMIT 5 OFFSET 2\")\n",
    "\n",
    "myresult = mycursor.fetchall()\n",
    "\n",
    "for x in myresult:\n",
    "  print(x)"
   ]
  },
  {
   "cell_type": "markdown",
   "metadata": {},
   "source": [
    "# **Disconnect from Server**\n",
    "\n",
    "----"
   ]
  },
  {
   "cell_type": "markdown",
   "metadata": {},
   "source": [
    "> **Disconnecting from Database Server:** We have to disconnect from the database server, so that have to release the resources."
   ]
  },
  {
   "cell_type": "code",
   "execution_count": null,
   "metadata": {},
   "outputs": [],
   "source": [
    "mydb.close()"
   ]
  },
  {
   "cell_type": "markdown",
   "metadata": {},
   "source": [
    "# **Joins**\n",
    "\n",
    "----"
   ]
  },
  {
   "cell_type": "markdown",
   "metadata": {},
   "source": [
    "* **JOIN** operation is performed on 2 or more tables, to fetch their records simultaneously.\n",
    "\n",
    "* SQL Query for JOIN:\n",
    "\n",
    "        SELECT <col_names_list> AS <alias_names> FROM <table_1_name> JOIN <table_2_name> \n",
    "                ON <table_1_col_name> = <table_2_col_name>"
   ]
  },
  {
   "cell_type": "code",
   "execution_count": null,
   "metadata": {},
   "outputs": [],
   "source": [
    "# Create another table called skills\n",
    "sql = 'CREATE TABLE skills(id int primary key auto_increment, name varchar(20), skill varchar(20))'\n",
    "mycursor.execute(sql)"
   ]
  },
  {
   "cell_type": "code",
   "execution_count": null,
   "metadata": {},
   "outputs": [],
   "source": [
    "# Insert into the new table\n",
    "sql = 'INSERT INTO skills(id, name, skill, emp_id) VALUES (%s, %s, %s, %s)'\n",
    "vals = [\n",
    "    (1, 'snehal', 'C', 1),\n",
    "    (2, 'shubh', 'C++', 2),\n",
    "    (3, 'snehal', 'Java', 1),\n",
    "    (4, 'shubh', 'PHP', 2),\n",
    "    (5, 'kal', 'Angular', 4),\n",
    "    (6, 'snehal', 'Git', 1),\n",
    "    (7, 'kal', 'Python', 4)\n",
    "]\n",
    "mycursor.executemany(sql, vals)\n",
    "mydb.commit()\n",
    "print(mycursor.rowcount, \"record(s) inserted..\")"
   ]
  },
  {
   "cell_type": "markdown",
   "metadata": {},
   "source": [
    "> **INNER Join:** Fetching all the records which are matching in both the tables.\n",
    "\n",
    "* SQL Query for JOIN:\n",
    "\n",
    "        SELECT <col_names_list> AS <alias_names> FROM <table_1_name> INNER JOIN <table_2_name> \n",
    "                ON <table_1_col_name> = <table_2_col_name>"
   ]
  },
  {
   "cell_type": "code",
   "execution_count": null,
   "metadata": {},
   "outputs": [],
   "source": [
    "sql = \"SELECT \\\n",
    "  skills.id as id, \\\n",
    "  emp.id AS emp_id, \\\n",
    "  emp.name AS emp_name, \\\n",
    "  skills.skill as skill \\\n",
    "  FROM emp \\\n",
    "  INNER JOIN skills ON emp.id = skills.emp_id\""
   ]
  },
  {
   "cell_type": "markdown",
   "metadata": {},
   "source": [
    "> **LEFT Join:** Fetch all the records from left table & only matching entries from the right table.\n",
    "\n",
    "* SQL Query for JOIN:\n",
    "\n",
    "        SELECT <col_names_list> AS <alias_names> FROM <table_1_name> LEFT JOIN <table_2_name> \n",
    "                ON <table_1_col_name> = <table_2_col_name>"
   ]
  },
  {
   "cell_type": "code",
   "execution_count": null,
   "metadata": {},
   "outputs": [],
   "source": [
    "sql = \"SELECT \\\n",
    "  skills.id as id, \\\n",
    "  emp.id AS emp_id, \\\n",
    "  emp.name AS emp_name, \\\n",
    "  skills.skill as skill \\\n",
    "  FROM emp \\\n",
    "  LEFT JOIN skills ON emp.id = skills.emp_id\""
   ]
  },
  {
   "cell_type": "markdown",
   "metadata": {},
   "source": [
    "> **RIGHT Join:** Fetch all the records from right table & only matching entries from the left table.\n",
    "\n",
    "* SQL Query for JOIN:\n",
    "\n",
    "        SELECT <col_names_list> AS <alias_names> FROM <table_1_name> RIGHT JOIN <table_2_name> \n",
    "                ON <table_1_col_name> = <table_2_col_name>"
   ]
  },
  {
   "cell_type": "code",
   "execution_count": null,
   "metadata": {},
   "outputs": [],
   "source": [
    "sql = \"SELECT \\\n",
    "  skills.id as id, \\\n",
    "  emp.id AS emp_id, \\\n",
    "  emp.name AS emp_name, \\\n",
    "  skills.skill as skill \\\n",
    "  FROM emp \\\n",
    "  RIGHT JOIN skills ON emp.id = skills.emp_id\""
   ]
  }
 ],
 "metadata": {
  "kernelspec": {
   "display_name": "Python 3",
   "language": "python",
   "name": "python3"
  },
  "language_info": {
   "codemirror_mode": {
    "name": "ipython",
    "version": 3
   },
   "file_extension": ".py",
   "mimetype": "text/x-python",
   "name": "python",
   "nbconvert_exporter": "python",
   "pygments_lexer": "ipython3",
   "version": "3.11.3"
  },
  "orig_nbformat": 4
 },
 "nbformat": 4,
 "nbformat_minor": 2
}
