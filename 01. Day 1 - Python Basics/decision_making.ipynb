{
 "cells": [
  {
   "cell_type": "markdown",
   "metadata": {},
   "source": [
    "> **if statement:**"
   ]
  },
  {
   "cell_type": "code",
   "execution_count": 1,
   "metadata": {},
   "outputs": [
    {
     "name": "stdout",
     "output_type": "stream",
     "text": [
      "i is greater than 5..\n"
     ]
    }
   ],
   "source": [
    "# if statement\n",
    "i = 10\n",
    "if i>5:\n",
    "    print('i is greater than 5..')"
   ]
  },
  {
   "cell_type": "markdown",
   "metadata": {},
   "source": [
    "> **if-else statement:**"
   ]
  },
  {
   "cell_type": "code",
   "execution_count": 2,
   "metadata": {},
   "outputs": [
    {
     "name": "stdout",
     "output_type": "stream",
     "text": [
      "i is less than 5\n"
     ]
    }
   ],
   "source": [
    "i = 1\n",
    "if i>5:\n",
    "    print('i is greater than 5..')\n",
    "else:\n",
    "    print('i is less than 5')"
   ]
  },
  {
   "cell_type": "markdown",
   "metadata": {},
   "source": [
    "> **if-elif-else statement:**"
   ]
  },
  {
   "cell_type": "code",
   "execution_count": 3,
   "metadata": {},
   "outputs": [
    {
     "name": "stdout",
     "output_type": "stream",
     "text": [
      "i is equal 10..\n"
     ]
    }
   ],
   "source": [
    "i = 10\n",
    "if i==5:\n",
    "    print('i is equal 5..')\n",
    "elif i==10:\n",
    "    print('i is equal 10..')\n",
    "else:\n",
    "    print('i is other..')"
   ]
  },
  {
   "cell_type": "markdown",
   "metadata": {},
   "source": [
    "> **Nested-if statements:**"
   ]
  },
  {
   "cell_type": "code",
   "execution_count": 4,
   "metadata": {},
   "outputs": [
    {
     "name": "stdout",
     "output_type": "stream",
     "text": [
      "Grade: B\n"
     ]
    }
   ],
   "source": [
    "# Program to determine a student's grade based on their marks\n",
    "\n",
    "marks = int(input(\"Enter the student's marks: \"))\n",
    "\n",
    "if marks >= 90:\n",
    "    grade = 'A'\n",
    "    if marks >= 95:\n",
    "        distinction = True\n",
    "    else:\n",
    "        distinction = False\n",
    "elif marks >= 80:\n",
    "    grade = 'B'\n",
    "    distinction = False\n",
    "elif marks >= 70:\n",
    "    grade = 'C'\n",
    "    distinction = False\n",
    "elif marks >= 60:\n",
    "    grade = 'D'\n",
    "    distinction = False\n",
    "else:\n",
    "    grade = 'F'\n",
    "    distinction = False\n",
    "\n",
    "print(\"Grade:\", grade)\n",
    "\n",
    "if distinction:\n",
    "    print(\"Distinction achieved!\")\n"
   ]
  },
  {
   "cell_type": "markdown",
   "metadata": {},
   "source": [
    "> **Short hand if statement:**"
   ]
  },
  {
   "cell_type": "code",
   "execution_count": 2,
   "metadata": {},
   "outputs": [
    {
     "name": "stdout",
     "output_type": "stream",
     "text": [
      "i less than 15\n"
     ]
    }
   ],
   "source": [
    "# Short hand if statement\n",
    "\n",
    "i = 10\n",
    "if i<15: print('i less than 15..')"
   ]
  },
  {
   "cell_type": "code",
   "execution_count": 3,
   "metadata": {},
   "outputs": [
    {
     "name": "stdout",
     "output_type": "stream",
     "text": [
      "True\n"
     ]
    }
   ],
   "source": [
    "# Short hand if-else statement\n",
    "\n",
    "i = 10\n",
    "print(True) if i==10 else print(False)"
   ]
  },
  {
   "cell_type": "code",
   "execution_count": 6,
   "metadata": {},
   "outputs": [
    {
     "name": "stdout",
     "output_type": "stream",
     "text": [
      "Not matched\n"
     ]
    }
   ],
   "source": [
    "# match-case statement\n",
    "\n",
    "flag = int(input('Enter num: '))\n",
    "\n",
    "match flag:\n",
    "    case 5 :\n",
    "        print('Flag = 5')\n",
    "    case 10 :\n",
    "        print('Flag = 10')\n",
    "    case 15 :\n",
    "        print('Flag = 15')\n",
    "    case 20 :\n",
    "        print('Flag = 20')\n",
    "    case _ :\n",
    "        print('Not matched')"
   ]
  },
  {
   "cell_type": "code",
   "execution_count": 9,
   "metadata": {},
   "outputs": [
    {
     "name": "stdout",
     "output_type": "stream",
     "text": [
      "Allowed access to Admin..\n"
     ]
    }
   ],
   "source": [
    "# Match case with OR statement\n",
    "\n",
    "role = 'Admin'\n",
    "\n",
    "match role:\n",
    "    case 'Emp' | 'User':\n",
    "        print('Not allowed access..')\n",
    "    case 'Admin':\n",
    "        print('Allowed access to Admin..')\n",
    "    case _ :\n",
    "        print('No role..')"
   ]
  },
  {
   "cell_type": "code",
   "execution_count": 11,
   "metadata": {},
   "outputs": [
    {
     "name": "stdout",
     "output_type": "stream",
     "text": [
      "No role..\n"
     ]
    }
   ],
   "source": [
    "# Use of if in match-case statement\n",
    "\n",
    "inp = 'Emp'\n",
    "roles = ['User', 'Admin']\n",
    "\n",
    "match inp:\n",
    "    case 'Emp' if inp in roles:\n",
    "        print('Access..')\n",
    "    case 'Admin' if inp in roles:\n",
    "        print('Access..')\n",
    "    case _ :\n",
    "        print('No role..')"
   ]
  },
  {
   "cell_type": "code",
   "execution_count": 16,
   "metadata": {},
   "outputs": [],
   "source": [
    "# Match the sequence patern\n",
    "def matchSeq(lst):\n",
    "    match lst:\n",
    "        case ['a']:\n",
    "            print('Only 1 char : a')\n",
    "        case _:\n",
    "            print('No match')"
   ]
  },
  {
   "cell_type": "code",
   "execution_count": 17,
   "metadata": {},
   "outputs": [
    {
     "name": "stdout",
     "output_type": "stream",
     "text": [
      "No match\n"
     ]
    }
   ],
   "source": [
    "matchSeq(['a'])"
   ]
  },
  {
   "cell_type": "code",
   "execution_count": null,
   "metadata": {},
   "outputs": [],
   "source": []
  }
 ],
 "metadata": {
  "kernelspec": {
   "display_name": "Python 3",
   "language": "python",
   "name": "python3"
  },
  "language_info": {
   "codemirror_mode": {
    "name": "ipython",
    "version": 3
   },
   "file_extension": ".py",
   "mimetype": "text/x-python",
   "name": "python",
   "nbconvert_exporter": "python",
   "pygments_lexer": "ipython3",
   "version": "3.11.3"
  },
  "orig_nbformat": 4
 },
 "nbformat": 4,
 "nbformat_minor": 2
}
