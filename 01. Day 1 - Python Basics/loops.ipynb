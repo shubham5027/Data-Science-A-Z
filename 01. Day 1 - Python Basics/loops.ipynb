{
 "cells": [
  {
   "cell_type": "markdown",
   "metadata": {},
   "source": [
    "# **while Loop**"
   ]
  },
  {
   "cell_type": "code",
   "execution_count": 6,
   "metadata": {},
   "outputs": [
    {
     "name": "stdout",
     "output_type": "stream",
     "text": [
      "1\n",
      "2\n",
      "3\n",
      "4\n"
     ]
    }
   ],
   "source": [
    "# While loop\n",
    "count = 1\n",
    "while count<5:\n",
    "    print(count)\n",
    "    count += 1\n"
   ]
  },
  {
   "cell_type": "code",
   "execution_count": 7,
   "metadata": {},
   "outputs": [
    {
     "name": "stdout",
     "output_type": "stream",
     "text": [
      "1\n",
      "2\n",
      "3\n",
      "4\n",
      "End of else\n"
     ]
    }
   ],
   "source": [
    "# While loop with else block\n",
    "count = 1\n",
    "while count<5:\n",
    "    print(count)\n",
    "    count += 1\n",
    "else:\n",
    "    print('End of else')"
   ]
  },
  {
   "cell_type": "code",
   "execution_count": 2,
   "metadata": {},
   "outputs": [],
   "source": [
    "# Infinite While Loop\n",
    "count = 1\n",
    "while True:\n",
    "    print(count, end=' ')\n",
    "    count += 1"
   ]
  },
  {
   "cell_type": "markdown",
   "metadata": {},
   "source": [
    "# **for Loop**"
   ]
  },
  {
   "cell_type": "code",
   "execution_count": 1,
   "metadata": {},
   "outputs": [
    {
     "name": "stdout",
     "output_type": "stream",
     "text": [
      "1\n",
      "2\n",
      "3\n",
      "4\n"
     ]
    }
   ],
   "source": [
    "# for loop with range() Function\n",
    "for i in range(1,5):\n",
    "    print(i)"
   ]
  },
  {
   "cell_type": "code",
   "execution_count": 6,
   "metadata": {},
   "outputs": [
    {
     "name": "stdout",
     "output_type": "stream",
     "text": [
      "\n",
      "List Iteration\n",
      "1 2 3 4 \n",
      "1 2 3 4 \n",
      "0 1\n",
      "1 2\n",
      "2 3\n",
      "3 4\n",
      "\n",
      "Tuple Iteration\n",
      "6 7 8 9 \n",
      "6 7 8 9 \n",
      "0 6\n",
      "1 7\n",
      "2 8\n",
      "3 9\n",
      "\n",
      "Set Iteration\n",
      "11 12 13 14 \n",
      "\n",
      "Dictionary Iteration\n",
      "1 2 3 4 \n",
      "11 22 33 44 \n",
      "(1, 11) (2, 22) (3, 33) (4, 44) \n",
      "1 : 11\n",
      "2 : 22\n",
      "3 : 33\n",
      "4 : 44\n",
      "\n",
      "\n",
      "String Iteration\n",
      "S n e h a l \n",
      "S n e h a l "
     ]
    }
   ],
   "source": [
    "# list, tuple, set, string and dict iteration using loop\n",
    "# 1. list iteration\n",
    "print('\\nList Iteration')\n",
    "lst = [1,2,3,4]\n",
    "for i in lst:\n",
    "    print(i, end=' ')\n",
    "print()\n",
    "for i in range(len(lst)):\n",
    "    print(lst[i], end=' ')\n",
    "print()\n",
    "for i,e in enumerate(lst):\n",
    "    print(i,e)\n",
    "\n",
    "# 2. Tuple Iteration\n",
    "print('\\nTuple Iteration')\n",
    "t = (6,7,8,9)\n",
    "for i in t:\n",
    "    print(i, end=' ')\n",
    "print()\n",
    "for i in range(len(t)):\n",
    "    print(t[i], end=' ')\n",
    "print()\n",
    "for i,e in enumerate(t):\n",
    "    print(i,e)\n",
    "\n",
    "# 3. Set Iteration\n",
    "print('\\nSet Iteration')\n",
    "st = {11,12,13,14,12,14,12,11,13,14}\n",
    "for i in st:\n",
    "    print(i, end=' ')\n",
    "print()\n",
    "# Set does not support indexing\n",
    "# for i in range(len(t)):\n",
    "#     print(t[i], end=' ')\n",
    "\n",
    "# 4. Dictionary Iteration\n",
    "print('\\nDictionary Iteration')\n",
    "d = {1:11,2:22,3:33,4:44}\n",
    "for i in d.keys():\n",
    "    print(i, end=' ')\n",
    "print()\n",
    "for i in d.values():\n",
    "    print(i, end=' ')\n",
    "print()\n",
    "for i in d.items():\n",
    "    print(i, end=' ')\n",
    "print()\n",
    "for i in d.keys():\n",
    "    print(i,':',d[i])\n",
    "print()\n",
    "\n",
    "# 5. String Iteration\n",
    "print('\\nString Iteration')\n",
    "sg = 'Snehal'\n",
    "for i in sg:\n",
    "    print(i, end=' ')\n",
    "print()\n",
    "for i in range(len(sg)):\n",
    "    print(sg[i], end=' ')"
   ]
  },
  {
   "cell_type": "code",
   "execution_count": 1,
   "metadata": {},
   "outputs": [
    {
     "name": "stdout",
     "output_type": "stream",
     "text": [
      "* \n",
      "* * \n",
      "* * * \n",
      "* * * * \n",
      "* * * * * \n"
     ]
    }
   ],
   "source": [
    "# Nested loops\n",
    "\n",
    "for i in range(1,6):\n",
    "    for j in range(i):\n",
    "        print('*', end=' ')\n",
    "    print()"
   ]
  },
  {
   "cell_type": "markdown",
   "metadata": {},
   "source": [
    "# **Looping control statements**"
   ]
  },
  {
   "cell_type": "code",
   "execution_count": 2,
   "metadata": {},
   "outputs": [
    {
     "name": "stdout",
     "output_type": "stream",
     "text": [
      "2\n",
      "4\n",
      "6\n",
      "8\n",
      "10\n"
     ]
    }
   ],
   "source": [
    "for i in range(1,11):\n",
    "    if i%2==1:\n",
    "        continue\n",
    "    print(i)"
   ]
  },
  {
   "cell_type": "code",
   "execution_count": 3,
   "metadata": {},
   "outputs": [
    {
     "name": "stdout",
     "output_type": "stream",
     "text": [
      "1\n",
      "2\n",
      "3\n",
      "4\n"
     ]
    }
   ],
   "source": [
    "for i in range(1,11):\n",
    "    if i%5==0:\n",
    "        break\n",
    "    print(i)"
   ]
  },
  {
   "cell_type": "code",
   "execution_count": 4,
   "metadata": {},
   "outputs": [
    {
     "name": "stdout",
     "output_type": "stream",
     "text": [
      "Nothing done\n"
     ]
    }
   ],
   "source": [
    "for i in range(5):\n",
    "    pass\n",
    "\n",
    "print('Nothing done')"
   ]
  },
  {
   "cell_type": "code",
   "execution_count": null,
   "metadata": {},
   "outputs": [],
   "source": []
  }
 ],
 "metadata": {
  "kernelspec": {
   "display_name": "Python 3",
   "language": "python",
   "name": "python3"
  },
  "language_info": {
   "codemirror_mode": {
    "name": "ipython",
    "version": 3
   },
   "file_extension": ".py",
   "mimetype": "text/x-python",
   "name": "python",
   "nbconvert_exporter": "python",
   "pygments_lexer": "ipython3",
   "version": "3.11.3"
  },
  "orig_nbformat": 4
 },
 "nbformat": 4,
 "nbformat_minor": 2
}
