{
 "cells": [
  {
   "cell_type": "markdown",
   "metadata": {},
   "source": [
    "# **Instantiating a Class**"
   ]
  },
  {
   "cell_type": "code",
   "execution_count": 4,
   "metadata": {},
   "outputs": [
    {
     "name": "stdout",
     "output_type": "stream",
     "text": [
      "1\n",
      "Snehal\n",
      "2 Shubh\n",
      "3 Shiv\n"
     ]
    }
   ],
   "source": [
    "# Instantiating a Class\n",
    "\n",
    "class Employee:\n",
    "    def __init__(self, id:int, name:str) -> None:\n",
    "        self.id = id\n",
    "        self.name = name\n",
    "    def display(self):\n",
    "        print(self.id, self.name)\n",
    "\n",
    "emp1 = Employee(1, 'Snehal')\n",
    "print(emp1.id)\n",
    "print(emp1.name)\n",
    "\n",
    "emp2 = Employee(2, 'Shubh')\n",
    "emp2.display()\n",
    "\n",
    "emp3 = Employee(3, 'Shiv')\n",
    "emp3.display()"
   ]
  },
  {
   "cell_type": "markdown",
   "metadata": {},
   "source": [
    "> **Constructor**"
   ]
  },
  {
   "cell_type": "code",
   "execution_count": 1,
   "metadata": {},
   "outputs": [],
   "source": [
    "class Account:\n",
    "    def __init__(self, acct:int, name:str) -> None:\n",
    "        self.acct = acct\n",
    "        self.name = name\n",
    "    def display(self) -> None:\n",
    "        print(self.acct, self.name)\n",
    "        "
   ]
  },
  {
   "cell_type": "code",
   "execution_count": 2,
   "metadata": {},
   "outputs": [
    {
     "name": "stdout",
     "output_type": "stream",
     "text": [
      "1 Snehal\n"
     ]
    }
   ],
   "source": [
    "a1 = Account(1,'Snehal')\n",
    "a1.display()"
   ]
  },
  {
   "cell_type": "markdown",
   "metadata": {},
   "source": [
    "> **Constructor Overloading:**"
   ]
  },
  {
   "cell_type": "code",
   "execution_count": 6,
   "metadata": {},
   "outputs": [
    {
     "name": "stdout",
     "output_type": "stream",
     "text": [
      "acct=1, name=Snehal, addr=Sarud\n",
      "acct=2, name=None, addr=None\n",
      "acct=3, name=Kal, addr=None\n",
      "acct=4, name=None, addr=Kop\n"
     ]
    }
   ],
   "source": [
    "class Employee:\n",
    "    def __init__(self, acct:int, name=None, addr=None) -> None:\n",
    "        if(name == None):\n",
    "            self.acct = acct\n",
    "            self.name = None\n",
    "            self.addr = addr\n",
    "        elif(addr == None):\n",
    "            self.acct = acct\n",
    "            self.name = name\n",
    "            self.addr = None\n",
    "        elif(name == None and addr == None):\n",
    "            self.acct = acct\n",
    "            self.name = None\n",
    "            self.addr = None\n",
    "        else:\n",
    "            self.acct = acct\n",
    "            self.name = name\n",
    "            self.addr = addr\n",
    "    def __str__(self) -> str:\n",
    "        return f'acct={self.acct}, name={self.name}, addr={self.addr}'\n",
    "\n",
    "emp1 = Employee(1, 'Snehal', 'Sarud')\n",
    "print(emp1)\n",
    "\n",
    "emp2 = Employee(2)\n",
    "print(emp2)\n",
    "\n",
    "emp3 = Employee(3, name='Kal')\n",
    "print(emp3)\n",
    "\n",
    "emp4 = Employee(4, addr='Kop')\n",
    "print(emp4)\n"
   ]
  },
  {
   "cell_type": "markdown",
   "metadata": {},
   "source": [
    "> **Destructor**"
   ]
  },
  {
   "cell_type": "code",
   "execution_count": 5,
   "metadata": {},
   "outputs": [
    {
     "name": "stdout",
     "output_type": "stream",
     "text": [
      "Object deleted\n",
      "Object deleted\n",
      "Object deleted\n"
     ]
    }
   ],
   "source": [
    "# 1. Automatically call the destructor, when object deleted\n",
    "\n",
    "class Employee:\n",
    "    def __init__(self, name:str) -> None:\n",
    "        self.name = name\n",
    "    def __del__(self):\n",
    "        print('Object deleted')\n",
    "\n",
    "emp1 = Employee('Sn')\n",
    "del emp1\n",
    "\n",
    "emp2 = Employee('Sh')\n",
    "del emp2\n",
    "\n",
    "emp3 = Employee('Kal')\n",
    "del emp3"
   ]
  },
  {
   "cell_type": "code",
   "execution_count": 2,
   "metadata": {},
   "outputs": [
    {
     "name": "stdout",
     "output_type": "stream",
     "text": [
      "Sn Object deleted\n",
      "Sn\n",
      "Kal Object deleted\n",
      "Kal\n",
      "Program end..\n",
      "Kal\n"
     ]
    }
   ],
   "source": [
    "# 2. Destructor called, when the program is end\n",
    "\n",
    "class Employee:\n",
    "    def __init__(self, name:str) -> None:\n",
    "        self.name = name\n",
    "    def __del__(self):\n",
    "        print(self.name,'Object deleted')\n",
    "\n",
    "emp1 = Employee('Sn')\n",
    "print(emp1.name)\n",
    "emp2 = Employee('Kal')\n",
    "print(emp2.name)\n",
    "\n",
    "\n",
    "print('Program end..')\n",
    "print(emp2.name)\n"
   ]
  },
  {
   "cell_type": "code",
   "execution_count": 9,
   "metadata": {},
   "outputs": [],
   "source": [
    "# 3. Calling destructor\n",
    "\n",
    "class A:\n",
    "    def __init__(self, bb) -> None:\n",
    "        self.bb = bb\n",
    "\n",
    "class B:\n",
    "    def __init__(self) -> None:\n",
    "        self.a = A(self)\n",
    "    def __del__(self) -> None:\n",
    "        print('Deleted...')\n",
    "\n",
    "b = B()"
   ]
  },
  {
   "cell_type": "markdown",
   "metadata": {},
   "source": [
    "# **Built-in Class Attributes, Methods and Functions:**"
   ]
  },
  {
   "cell_type": "markdown",
   "metadata": {},
   "source": [
    "> **Built-in Class Attributes:**"
   ]
  },
  {
   "cell_type": "code",
   "execution_count": 3,
   "metadata": {},
   "outputs": [
    {
     "name": "stdout",
     "output_type": "stream",
     "text": [
      "Object created..\n",
      "Object created..\n",
      "(<class 'object'>,)\n",
      "{'__module__': '__main__', '__doc__': 'Create Account Class', '__init__': <function Account.__init__ at 0x000001F9F2562B60>, '__dict__': <attribute '__dict__' of 'Account' objects>, '__weakref__': <attribute '__weakref__' of 'Account' objects>}\n",
      "Create Account Class\n",
      "__main__\n",
      "Account\n",
      "{}\n",
      "None\n",
      "{'acct': 1, 'name': 'Snehal', 'addr': 'sarud'}\n",
      "{'acct': 2, 'name': 'Kal'}\n"
     ]
    }
   ],
   "source": [
    "class Account:\n",
    "    '''Create Account Class'''\n",
    "    def __init__(self, acct:int, name:str) -> None:\n",
    "        self.acct = acct\n",
    "        self.name = name\n",
    "        print('Object created..')\n",
    "\n",
    "acct1 = Account(1, 'Snehal')\n",
    "acct2 = Account(2, 'Kal')\n",
    "\n",
    "print(Account.__bases__)\n",
    "print(Account.__dict__)\n",
    "print(Account.__doc__)\n",
    "print(Account.__module__)\n",
    "print(Account.__name__)\n",
    "# print(acct1.__name__)\n",
    "\n",
    "print(Account.__annotations__)\n",
    "\n",
    "\n",
    "print(acct1.__setattr__('addr', 'sarud'))\n",
    "print(acct1.__getstate__())\n",
    "print(acct2.__getstate__())\n"
   ]
  },
  {
   "cell_type": "markdown",
   "metadata": {},
   "source": [
    "> **Built-in Class Functions:**"
   ]
  },
  {
   "cell_type": "code",
   "execution_count": 18,
   "metadata": {},
   "outputs": [
    {
     "name": "stdout",
     "output_type": "stream",
     "text": [
      "Object created..\n",
      "1 : Snehal\n",
      "Object created..\n",
      "2 : Kal\n",
      "{'acct': 2, 'name': 'Kal'}\n",
      "{'acct': 2}\n",
      "Object created..\n",
      "4 : Shubh\n",
      "{'acct': 4, 'name': 'Shubh'}\n",
      "Shubh\n",
      "Shubh\n",
      "{'acct': 4, 'name': 'Shubh', 'addr': 'Kop', 'comp': 'TCS'}\n",
      "{'acct': 4, 'name': 'Shubh'}\n",
      "False\n",
      "True\n"
     ]
    }
   ],
   "source": [
    "class Account:\n",
    "    '''Create Account Class'''\n",
    "    \n",
    "    def __init__(self, acct:int, name:str) -> None:\n",
    "        self.acct = acct\n",
    "        self.name = name\n",
    "        print('Object created..')\n",
    "    def __str__(self) -> str:\n",
    "        return f'{self.acct} : {self.name}'\n",
    "\n",
    "\n",
    "# acct1 = Account(1, 'Snehal')\n",
    "# print(acct1)\n",
    "# acct2 = Account(2, 'Kal')\n",
    "# print(acct2)\n",
    "\n",
    "# print(acct2.__getstate__())\n",
    "# del acct2.name\n",
    "# print(acct2.__getstate__())\n",
    "\n",
    "\n",
    "\n",
    "# acct3 = Account(3, 'Shiv')\n",
    "# print(acct3)\n",
    "acct4 = Account(4, 'Shubh')\n",
    "print(acct4)\n",
    "\n",
    "# Get instance state\n",
    "print(acct4.__getstate__())\n",
    "\n",
    "# Get an attribute value from the instance\n",
    "print(acct4.__getattribute__('name'))\n",
    "print(getattr(acct4,'name'))\n",
    "\n",
    "# Set value to an attribute in the instance\n",
    "acct4.__setattr__('addr', 'Kop')\n",
    "setattr(acct4, 'comp', 'TCS')\n",
    "print(acct4.__getstate__())\n",
    "\n",
    "# Delete attribute from the instance\n",
    "acct4.__delattr__('addr')\n",
    "delattr(acct4, 'comp')\n",
    "print(acct4.__getstate__())\n",
    "\n",
    "# Check if instance has an attribute\n",
    "print(hasattr(acct4, 'comp'))\n",
    "print(hasattr(acct4, 'acct'))"
   ]
  },
  {
   "cell_type": "markdown",
   "metadata": {},
   "source": [
    "# **Class vs Static Variables and Methods**"
   ]
  },
  {
   "cell_type": "markdown",
   "metadata": {},
   "source": [
    "> **1. Class and Static Variables**"
   ]
  },
  {
   "cell_type": "code",
   "execution_count": 18,
   "metadata": {},
   "outputs": [
    {
     "name": "stdout",
     "output_type": "stream",
     "text": [
      "Count:1, Type:Saving,\n",
      "Acct No.:11, Name:Snehal\n",
      "Count:2, Type:Saving,\n",
      "Acct No.:12, Name:Kal\n",
      "Count:3, Type:Saving,\n",
      "Acct No.:13, Name:Shiv\n",
      "Count:4, Type:Saving,\n",
      "Acct No.:14, Name:Shubh\n",
      "Accounts: 4\n"
     ]
    }
   ],
   "source": [
    "class Account:\n",
    "    '''Create Account Class'''\n",
    "    count = 0\n",
    "    acct_type = 'Saving'\n",
    "\n",
    "    def __init__(self, acct:int, name:str) -> None:\n",
    "        self.acct = acct\n",
    "        self.name = name\n",
    "        Account.count += 1\n",
    "        # print('Object created..')\n",
    "    def __str__(self) -> str:\n",
    "        st = f'Count:{Account.count}, Type:{Account.acct_type}'\n",
    "        inst = f'Acct No.:{self.acct}, Name:{self.name}'\n",
    "        return f'{st},\\n{inst}'\n",
    "\n",
    "acct1 = Account(11, 'Snehal')\n",
    "# print(acct1.__getstate__())\n",
    "# print(acct1.count,acct1.acct,acct1.name,acct1.acct_type)\n",
    "print(acct1)\n",
    "\n",
    "acct2 = Account(12, 'Kal')\n",
    "# print(acct2.__getstate__())\n",
    "print(acct2)\n",
    "\n",
    "acct3 = Account(13, 'Shiv')\n",
    "# print(acct3.__getstate__())\n",
    "print(acct3)\n",
    "\n",
    "acct4 = Account(14, 'Shubh')\n",
    "# print(acct4.__getstate__())\n",
    "print(acct4)\n",
    "\n",
    "print('Accounts:', Account.count)"
   ]
  },
  {
   "cell_type": "markdown",
   "metadata": {},
   "source": [
    "> **2. Class and Static Methods**"
   ]
  },
  {
   "cell_type": "code",
   "execution_count": 11,
   "metadata": {},
   "outputs": [
    {
     "name": "stdout",
     "output_type": "stream",
     "text": [
      "1\n",
      "1\n",
      "Saving\n",
      "Saving\n"
     ]
    }
   ],
   "source": [
    "class Account:\n",
    "    '''Create Account Class'''\n",
    "    count = 0\n",
    "    acct_type = 'Saving'\n",
    "    # Instance method\n",
    "    def __init__(self, acct:int, name:str) -> None:\n",
    "        self.acct = acct\n",
    "        self.name = name\n",
    "        Account.count += 1\n",
    "    def set_name(self: Account, name:str) -> None:\n",
    "        self.name = name\n",
    "    @classmethod\n",
    "    def get_count(cls) -> int:\n",
    "        return cls.count\n",
    "    @staticmethod\n",
    "    def get_type() -> str:\n",
    "        return Account.acct_type\n",
    "\n",
    "acct1 = Account(1, 'Snehal')\n",
    "print(Account.get_count())\n",
    "Account.set_name(acct1, name='Shubh')\n",
    "print(acct1.get_count())\n",
    "\n",
    "print(Account.get_type())\n",
    "print(acct1.get_type())"
   ]
  },
  {
   "cell_type": "code",
   "execution_count": null,
   "metadata": {},
   "outputs": [],
   "source": []
  }
 ],
 "metadata": {
  "kernelspec": {
   "display_name": "Python 3",
   "language": "python",
   "name": "python3"
  },
  "language_info": {
   "codemirror_mode": {
    "name": "ipython",
    "version": 3
   },
   "file_extension": ".py",
   "mimetype": "text/x-python",
   "name": "python",
   "nbconvert_exporter": "python",
   "pygments_lexer": "ipython3",
   "version": "3.11.3"
  },
  "orig_nbformat": 4
 },
 "nbformat": 4,
 "nbformat_minor": 2
}
