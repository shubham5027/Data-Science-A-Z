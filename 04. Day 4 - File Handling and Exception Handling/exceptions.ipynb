{
 "cells": [
  {
   "attachments": {},
   "cell_type": "markdown",
   "metadata": {},
   "source": [
    "# **Examples of Exceptions:**"
   ]
  },
  {
   "cell_type": "code",
   "execution_count": 30,
   "metadata": {},
   "outputs": [
    {
     "name": "stdout",
     "output_type": "stream",
     "text": [
      "Error: cannot add an int and a str\n",
      "After operation\n"
     ]
    }
   ],
   "source": [
    "# 1. TypeError\n",
    "\n",
    "x = 5\n",
    "y = \"hello\"\n",
    "try:\n",
    "\tz = x + y\n",
    "except TypeError:\n",
    "\tprint(\"Error: cannot add an int and a str\")\n",
    "print('After operation')"
   ]
  },
  {
   "cell_type": "code",
   "execution_count": 31,
   "metadata": {},
   "outputs": [
    {
     "name": "stdout",
     "output_type": "stream",
     "text": [
      "Second element = 2\n",
      "An error occurred\n",
      "End of exception..\n"
     ]
    }
   ],
   "source": [
    "# 2. IndexError: list index out of range\n",
    "# Python program to handle simple runtime error\n",
    "\n",
    "a = [1, 2, 3]\n",
    "try:\n",
    "\tprint (\"Second element = %d\" %(a[1]))\n",
    "\n",
    "\t# Throws error since there are only 3 elements in array\n",
    "\tprint (\"Fourth element = %d\" %(a[3]))\n",
    "\n",
    "except:\n",
    "\tprint (\"An error occurred\")\n",
    "\n",
    "print('End of exception..')"
   ]
  },
  {
   "attachments": {},
   "cell_type": "markdown",
   "metadata": {},
   "source": [
    "# **Catching Specific Exception**"
   ]
  },
  {
   "cell_type": "code",
   "execution_count": 32,
   "metadata": {},
   "outputs": [
    {
     "name": "stdout",
     "output_type": "stream",
     "text": [
      "Second argument to a division or modulo operation was zero.\n",
      "2.0\n",
      "[1, 2, 3]\n"
     ]
    }
   ],
   "source": [
    "def func(n):\n",
    "  try:\n",
    "      d = 4/n\n",
    "      print(d)\n",
    "      print(a)\n",
    "  except ZeroDivisionError:\n",
    "      print(ZeroDivisionError.__doc__)\n",
    "  except NameError:\n",
    "      print('Name not defined in the scope...')\n",
    "\n",
    "func(0)\n",
    "func(2)"
   ]
  },
  {
   "cell_type": "code",
   "execution_count": 33,
   "metadata": {},
   "outputs": [
    {
     "name": "stdout",
     "output_type": "stream",
     "text": [
      "Second argument to a division or modulo operation was zero.\n",
      "Opeatoin completed..\n"
     ]
    }
   ],
   "source": [
    "# Use of the finally keyword with try-except\n",
    "\n",
    "try:\n",
    "    d = 5/0\n",
    "except ZeroDivisionError:\n",
    "    print(ZeroDivisionError.__doc__)\n",
    "finally:\n",
    "    print('Opeatoin completed..')"
   ]
  },
  {
   "cell_type": "code",
   "execution_count": 11,
   "metadata": {},
   "outputs": [
    {
     "name": "stdout",
     "output_type": "stream",
     "text": [
      "Cannot divide by 0...\n",
      "End..\n",
      "2.0\n",
      "End..\n"
     ]
    }
   ],
   "source": [
    "# Try with else block\n",
    "\n",
    "def func(n):\n",
    "    try:\n",
    "        c = 4/n\n",
    "    except ZeroDivisionError:\n",
    "        print('Cannot divide by 0...')\n",
    "    else:\n",
    "        print(c)\n",
    "    finally:\n",
    "        print('End..')\n",
    "func(0)\n",
    "func(2)"
   ]
  },
  {
   "attachments": {},
   "cell_type": "markdown",
   "metadata": {},
   "source": [
    "# **Raising User-defined Exception**"
   ]
  },
  {
   "cell_type": "code",
   "execution_count": 34,
   "metadata": {},
   "outputs": [
    {
     "name": "stdout",
     "output_type": "stream",
     "text": [
      "Hello, Snehal\n",
      "Shubh not having access..\n"
     ]
    },
    {
     "ename": "NameError",
     "evalue": "('Shubh', 'not having access..')",
     "output_type": "error",
     "traceback": [
      "\u001b[1;31m---------------------------------------------------------------------------\u001b[0m",
      "\u001b[1;31mNameError\u001b[0m                                 Traceback (most recent call last)",
      "Cell \u001b[1;32mIn[34], line 12\u001b[0m\n\u001b[0;32m      9\u001b[0m         \u001b[39mraise\u001b[39;00m\n\u001b[0;32m     11\u001b[0m func(\u001b[39m'\u001b[39m\u001b[39mSnehal\u001b[39m\u001b[39m'\u001b[39m)\n\u001b[1;32m---> 12\u001b[0m func(\u001b[39m'\u001b[39;49m\u001b[39mShubh\u001b[39;49m\u001b[39m'\u001b[39;49m)\n",
      "Cell \u001b[1;32mIn[34], line 6\u001b[0m, in \u001b[0;36mfunc\u001b[1;34m(name)\u001b[0m\n\u001b[0;32m      4\u001b[0m         \u001b[39mprint\u001b[39m(\u001b[39m'\u001b[39m\u001b[39mHello,\u001b[39m\u001b[39m'\u001b[39m,name)\n\u001b[0;32m      5\u001b[0m     \u001b[39melse\u001b[39;00m:\n\u001b[1;32m----> 6\u001b[0m         \u001b[39mraise\u001b[39;00m \u001b[39mNameError\u001b[39;00m(name,\u001b[39m'\u001b[39m\u001b[39mnot having access..\u001b[39m\u001b[39m'\u001b[39m)\n\u001b[0;32m      7\u001b[0m \u001b[39mexcept\u001b[39;00m \u001b[39mNameError\u001b[39;00m:\n\u001b[0;32m      8\u001b[0m     \u001b[39mprint\u001b[39m(name,\u001b[39m'\u001b[39m\u001b[39mnot having access..\u001b[39m\u001b[39m'\u001b[39m)\n",
      "\u001b[1;31mNameError\u001b[0m: ('Shubh', 'not having access..')"
     ]
    }
   ],
   "source": [
    "def func(name):\n",
    "    try:\n",
    "        if name == 'Snehal':\n",
    "            print('Hello,',name)\n",
    "        else:\n",
    "            raise NameError(name,'not having access..')\n",
    "    except NameError:\n",
    "        print(name,'not having access..')\n",
    "        raise\n",
    "\n",
    "func('Snehal')\n",
    "func('Shubh')"
   ]
  },
  {
   "cell_type": "code",
   "execution_count": 21,
   "metadata": {},
   "outputs": [
    {
     "name": "stdout",
     "output_type": "stream",
     "text": [
      "Hello, Snehal\n",
      "End...\n",
      "Hello, Shubh\n",
      "End...\n",
      "User is not authorized\n",
      "End...\n"
     ]
    },
    {
     "ename": "NotAuthorizedError",
     "evalue": "'Kal, is not authorized.'",
     "output_type": "error",
     "traceback": [
      "\u001b[1;31m---------------------------------------------------------------------------\u001b[0m",
      "\u001b[1;31mNotAuthorizedError\u001b[0m                        Traceback (most recent call last)",
      "Cell \u001b[1;32mIn[21], line 25\u001b[0m\n\u001b[0;32m     23\u001b[0m wish(\u001b[39m'\u001b[39m\u001b[39mSnehal\u001b[39m\u001b[39m'\u001b[39m)\n\u001b[0;32m     24\u001b[0m wish(\u001b[39m'\u001b[39m\u001b[39mShubh\u001b[39m\u001b[39m'\u001b[39m)\n\u001b[1;32m---> 25\u001b[0m wish(\u001b[39m'\u001b[39;49m\u001b[39mKal\u001b[39;49m\u001b[39m'\u001b[39;49m)\n\u001b[0;32m     26\u001b[0m wish(\u001b[39m'\u001b[39m\u001b[39mShiv\u001b[39m\u001b[39m'\u001b[39m)\n",
      "Cell \u001b[1;32mIn[21], line 16\u001b[0m, in \u001b[0;36mwish\u001b[1;34m(name)\u001b[0m\n\u001b[0;32m     14\u001b[0m         \u001b[39mprint\u001b[39m(\u001b[39m'\u001b[39m\u001b[39mHello,\u001b[39m\u001b[39m'\u001b[39m, name)\n\u001b[0;32m     15\u001b[0m     \u001b[39melse\u001b[39;00m:\n\u001b[1;32m---> 16\u001b[0m         \u001b[39mraise\u001b[39;00m NotAuthorizedError(name)\n\u001b[0;32m     17\u001b[0m \u001b[39mexcept\u001b[39;00m NotAuthorizedError:\n\u001b[0;32m     18\u001b[0m     \u001b[39mprint\u001b[39m(NotAuthorizedError\u001b[39m.\u001b[39m\u001b[39m__doc__\u001b[39m)\n",
      "\u001b[1;31mNotAuthorizedError\u001b[0m: 'Kal, is not authorized.'"
     ]
    }
   ],
   "source": [
    "# User-defined Exception\n",
    "\n",
    "class NotAuthorizedError(Exception):\n",
    "    '''User is not authorized'''\n",
    "    def __init__(self, value, *args: object) -> None:\n",
    "        super().__init__(*args)\n",
    "        self.value = value+', is not authorized.'\n",
    "    def __str__(self):\n",
    "        return(repr(self.value))\n",
    "\n",
    "def wish(name):\n",
    "    try:\n",
    "        if name=='Snehal' or name=='Shubh':\n",
    "            print('Hello,', name)\n",
    "        else:\n",
    "            raise NotAuthorizedError(name)\n",
    "    except NotAuthorizedError:\n",
    "        print(NotAuthorizedError.__doc__)\n",
    "        raise\n",
    "    finally:\n",
    "        print('End...')\n",
    "\n",
    "wish('Snehal')\n",
    "wish('Shubh')\n",
    "wish('Kal')\n",
    "wish('Shiv')"
   ]
  },
  {
   "attachments": {},
   "cell_type": "markdown",
   "metadata": {},
   "source": [
    "# **Error vs Exception:**"
   ]
  },
  {
   "cell_type": "code",
   "execution_count": 1,
   "metadata": {},
   "outputs": [
    {
     "ename": "SyntaxError",
     "evalue": "invalid syntax (274823581.py, line 2)",
     "output_type": "error",
     "traceback": [
      "\u001b[1;36m  Cell \u001b[1;32mIn[1], line 2\u001b[1;36m\u001b[0m\n\u001b[1;33m    = 10\u001b[0m\n\u001b[1;37m    ^\u001b[0m\n\u001b[1;31mSyntaxError\u001b[0m\u001b[1;31m:\u001b[0m invalid syntax\n"
     ]
    }
   ],
   "source": [
    "try:\n",
    "    = 10\n",
    "except SyntaxError:\n",
    "    print(SyntaxError.__doc__)\n",
    "else:\n",
    "    # print('Nothing...')"
   ]
  },
  {
   "cell_type": "code",
   "execution_count": null,
   "metadata": {},
   "outputs": [],
   "source": [
    "# Hieranrchy of the Exception Classes\n",
    "\n",
    "# BaseException\n",
    "#  +-- SystemExit\n",
    "#  +-- KeyboardInterrupt\n",
    "#  +-- GeneratorExit\n",
    "#  +-- Exception\n",
    "#       +-- StopIteration\n",
    "#       +-- StandardError\n",
    "#       |    +-- BufferError\n",
    "#       |    +-- ArithmeticError\n",
    "#       |    |    +-- FloatingPointError\n",
    "#       |    |    +-- OverflowError\n",
    "#       |    |    +-- ZeroDivisionError\n",
    "#       |    +-- AssertionError\n",
    "#       |    +-- AttributeError\n",
    "#       |    +-- EnvironmentError\n",
    "#       |    |    +-- IOError\n",
    "#       |    |    +-- OSError\n",
    "#       |    |         +-- WindowsError (Windows)\n",
    "#       |    |         +-- VMSError (VMS)\n",
    "#       |    +-- EOFError\n",
    "#       |    +-- ImportError\n",
    "#       |    +-- LookupError\n",
    "#       |    |    +-- IndexError\n",
    "#       |    |    +-- KeyError\n",
    "#       |    +-- MemoryError\n",
    "#       |    +-- NameError\n",
    "#       |    |    +-- UnboundLocalError\n",
    "#       |    +-- ReferenceError\n",
    "#       |    +-- RuntimeError\n",
    "#       |    |    +-- NotImplementedError\n",
    "#       |    +-- SyntaxError\n",
    "#       |    |    +-- IndentationError\n",
    "#       |    |         +-- TabError\n",
    "#       |    +-- SystemError\n",
    "#       |    +-- TypeError\n",
    "#       |    +-- ValueError\n",
    "#       |         +-- UnicodeError\n",
    "#       |              +-- UnicodeDecodeError\n",
    "#       |              +-- UnicodeEncodeError\n",
    "#       |              +-- UnicodeTranslateError\n",
    "#       +-- Warning\n",
    "#            +-- DeprecationWarning\n",
    "#            +-- PendingDeprecationWarning\n",
    "#            +-- RuntimeWarning\n",
    "#            +-- SyntaxWarning\n",
    "#            +-- UserWarning\n",
    "#            +-- FutureWarning\n",
    "# \t   +-- ImportWarning\n",
    "# \t   +-- UnicodeWarning\n",
    "# \t   +-- BytesWarning"
   ]
  }
 ],
 "metadata": {
  "kernelspec": {
   "display_name": "Python 3",
   "language": "python",
   "name": "python3"
  },
  "language_info": {
   "codemirror_mode": {
    "name": "ipython",
    "version": 3
   },
   "file_extension": ".py",
   "mimetype": "text/x-python",
   "name": "python",
   "nbconvert_exporter": "python",
   "pygments_lexer": "ipython3",
   "version": "3.11.3"
  },
  "orig_nbformat": 4
 },
 "nbformat": 4,
 "nbformat_minor": 2
}
