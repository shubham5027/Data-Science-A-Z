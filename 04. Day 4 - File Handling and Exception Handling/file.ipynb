{
 "cells": [
  {
   "cell_type": "markdown",
   "metadata": {},
   "source": [
    "# **Open a file:**"
   ]
  },
  {
   "attachments": {},
   "cell_type": "markdown",
   "metadata": {},
   "source": [
    "> **1. open() file:**"
   ]
  },
  {
   "cell_type": "code",
   "execution_count": 1,
   "metadata": {},
   "outputs": [
    {
     "name": "stdout",
     "output_type": "stream",
     "text": [
      "file is opened successfully\n"
     ]
    }
   ],
   "source": [
    "#opens the file file.txt in read mode    \n",
    "fileptr = open(\"geek.txt\",\"r\")    \n",
    "    \n",
    "if fileptr:    \n",
    "    print(\"file is opened successfully\")"
   ]
  },
  {
   "cell_type": "markdown",
   "metadata": {},
   "source": [
    "# **Read or Write - Performing operations on the file:**"
   ]
  },
  {
   "cell_type": "markdown",
   "metadata": {},
   "source": [
    "> **Open with read mode and Print each line in file using for loop:**"
   ]
  },
  {
   "cell_type": "code",
   "execution_count": 27,
   "metadata": {},
   "outputs": [
    {
     "name": "stdout",
     "output_type": "stream",
     "text": [
      "Writing new text to the file..\n",
      "\n",
      "With the help of the with keyword..\n",
      "\n",
      "Then closing the file..\n"
     ]
    }
   ],
   "source": [
    "# a file named \"file\", will be opened with the reading mode.\n",
    "file = open('file.txt', 'r')\n",
    "\n",
    "# This will print every line one by one in the file\n",
    "for each in file:\n",
    "\tprint (each)"
   ]
  },
  {
   "cell_type": "markdown",
   "metadata": {},
   "source": [
    "> **read():**"
   ]
  },
  {
   "cell_type": "code",
   "execution_count": 25,
   "metadata": {},
   "outputs": [
    {
     "name": "stdout",
     "output_type": "stream",
     "text": [
      "Writing new text to the file..\n",
      "With the help of the with keyword..\n",
      "Then closing the file..\n"
     ]
    }
   ],
   "source": [
    "file = open('file.txt', 'r')\n",
    "print(file.read())\n"
   ]
  },
  {
   "cell_type": "markdown",
   "metadata": {},
   "source": [
    "> **read() and with operator:**"
   ]
  },
  {
   "cell_type": "code",
   "execution_count": 28,
   "metadata": {},
   "outputs": [
    {
     "name": "stdout",
     "output_type": "stream",
     "text": [
      "Writing new text to the file..\n",
      "With the help of the with keyword..\n",
      "Then closing the file..\n"
     ]
    }
   ],
   "source": [
    "with open('file.txt', 'r') as file:\n",
    "    print(file.read())"
   ]
  },
  {
   "cell_type": "markdown",
   "metadata": {},
   "source": [
    "> **read() specific number of characters only:**"
   ]
  },
  {
   "cell_type": "code",
   "execution_count": 30,
   "metadata": {},
   "outputs": [
    {
     "name": "stdout",
     "output_type": "stream",
     "text": [
      "Writing new text to \n"
     ]
    }
   ],
   "source": [
    "with open('file.txt', 'r') as file:\n",
    "    print(file.read(20))"
   ]
  },
  {
   "cell_type": "markdown",
   "metadata": {},
   "source": [
    "> **readline():**"
   ]
  },
  {
   "cell_type": "code",
   "execution_count": 35,
   "metadata": {},
   "outputs": [
    {
     "name": "stdout",
     "output_type": "stream",
     "text": [
      "Writing new text to the file..\n",
      "\n",
      "With the help of the with keyword..\n",
      "\n",
      "Then closing the file..\n"
     ]
    }
   ],
   "source": [
    "with open('file.txt', 'r') as file:\n",
    "    print(file.readline())\n",
    "    print(file.readline())\n",
    "    print(file.readline())\n",
    "\n",
    "file.close()"
   ]
  },
  {
   "cell_type": "markdown",
   "metadata": {},
   "source": [
    "> **readline() using loop:**"
   ]
  },
  {
   "cell_type": "code",
   "execution_count": 39,
   "metadata": {},
   "outputs": [
    {
     "name": "stdout",
     "output_type": "stream",
     "text": [
      "Writing new text to the file..\n",
      "\n",
      "With the help of the with keyword..\n",
      "\n",
      "Then closing the file..\n",
      "\n",
      "Appending new data to the file..\n",
      "\n",
      "Without overwriting the file..\n",
      "\n"
     ]
    }
   ],
   "source": [
    "file = open('file.txt', 'r')\n",
    "\n",
    "line = file.readline()\n",
    "\n",
    "while line:\n",
    "    print(line)\n",
    "    line = file.readline()\n",
    "\n",
    "file.close()"
   ]
  },
  {
   "cell_type": "markdown",
   "metadata": {},
   "source": [
    "> **readlines():**"
   ]
  },
  {
   "cell_type": "code",
   "execution_count": 33,
   "metadata": {},
   "outputs": [
    {
     "name": "stdout",
     "output_type": "stream",
     "text": [
      "['Writing new text to the file..\\n', 'With the help of the with keyword..\\n', 'Then closing the file..']\n",
      "['Writing', 'new', 'text', 'to', 'the', 'file..']\n",
      "['With', 'the', 'help', 'of', 'the', 'with', 'keyword..']\n",
      "['Then', 'closing', 'the', 'file..']\n"
     ]
    }
   ],
   "source": [
    "with open('file.txt', 'r') as file:\n",
    "    data = file.readlines()\n",
    "    print(data)\n",
    "    for i in data:\n",
    "        print(i.split())\n",
    "\n",
    "file.close()"
   ]
  },
  {
   "cell_type": "markdown",
   "metadata": {},
   "source": [
    "> **write():**"
   ]
  },
  {
   "cell_type": "code",
   "execution_count": 7,
   "metadata": {},
   "outputs": [],
   "source": [
    "# Python code to create a file\n",
    "file = open('write.txt','w')\n",
    "file.write(\"This is write command\")\n",
    "file.write(\"\\nWrite in a the file\")\n",
    "file.close()\n"
   ]
  },
  {
   "cell_type": "markdown",
   "metadata": {},
   "source": [
    "> **write() and with keyword:**"
   ]
  },
  {
   "cell_type": "code",
   "execution_count": 4,
   "metadata": {},
   "outputs": [],
   "source": [
    "with open('write.txt', 'w') as file:\n",
    "    file.write('Writing new text to the file..\\n')\n",
    "    file.write('With the help of the with keyword..\\n')\n",
    "    file.write('Then closing the file..')\n",
    "\n",
    "file.close()"
   ]
  },
  {
   "cell_type": "markdown",
   "metadata": {},
   "source": [
    "> **writelines():**"
   ]
  },
  {
   "cell_type": "code",
   "execution_count": 43,
   "metadata": {},
   "outputs": [],
   "source": [
    "file = open('other_file.txt', 'w')\n",
    "lst = ['Hii,\\n', 'Hello\\n', 'How are you doing\\n']\n",
    "file.writelines(lst)\n",
    "file.close()"
   ]
  },
  {
   "cell_type": "markdown",
   "metadata": {},
   "source": [
    "> **append():**"
   ]
  },
  {
   "cell_type": "code",
   "execution_count": 8,
   "metadata": {},
   "outputs": [],
   "source": [
    "file = open('write.txt', 'a')\n",
    "file.write('\\nAppending to the file..\\n')\n",
    "file.write('Without overwriting..\\n')\n",
    "\n",
    "file.close()"
   ]
  },
  {
   "cell_type": "markdown",
   "metadata": {},
   "source": [
    "# **Close the File:**"
   ]
  },
  {
   "cell_type": "markdown",
   "metadata": {},
   "source": [
    "> **2. close() file:**"
   ]
  },
  {
   "cell_type": "code",
   "execution_count": 7,
   "metadata": {},
   "outputs": [
    {
     "name": "stdout",
     "output_type": "stream",
     "text": [
      "file is opened successfully\n",
      "False\n",
      "True\n"
     ]
    }
   ],
   "source": [
    "# opens the file file.txt in read mode    \n",
    "fileptr = open(\"geek.txt\",\"r\")    \n",
    "    \n",
    "if fileptr:    \n",
    "    print(\"file is opened successfully\")    \n",
    "\n",
    "print(fileptr.closed)\n",
    "#closes the opened file    \n",
    "fileptr.close() \n",
    "print(fileptr.closed)\n"
   ]
  },
  {
   "cell_type": "markdown",
   "metadata": {},
   "source": [
    "> **Using try-finally Block to Perform file Operations:**"
   ]
  },
  {
   "cell_type": "code",
   "execution_count": 11,
   "metadata": {},
   "outputs": [
    {
     "name": "stdout",
     "output_type": "stream",
     "text": [
      "File not found.\n"
     ]
    }
   ],
   "source": [
    "try:  \n",
    "    fileptr = open(\"g.txt\", 'r')  \n",
    "    # perform file operations  \n",
    "except FileNotFoundError:\n",
    "    print(FileNotFoundError.__doc__)\n",
    "finally:  \n",
    "    fileptr.close() "
   ]
  },
  {
   "cell_type": "code",
   "execution_count": 1,
   "metadata": {},
   "outputs": [
    {
     "name": "stdout",
     "output_type": "stream",
     "text": [
      "<_io.TextIOWrapper name='geek.txt' mode='r' encoding='cp1252'>\n"
     ]
    }
   ],
   "source": [
    "file = open('geek.txt', 'r')\n",
    "print(file)"
   ]
  },
  {
   "cell_type": "markdown",
   "metadata": {},
   "source": [
    "# **OS Module Operations:**"
   ]
  },
  {
   "cell_type": "markdown",
   "metadata": {},
   "source": [
    "> **rename():**"
   ]
  },
  {
   "cell_type": "code",
   "execution_count": 8,
   "metadata": {},
   "outputs": [],
   "source": [
    "import os\n",
    "\n",
    "os.rename('geek.txt', 'file.txt')"
   ]
  },
  {
   "cell_type": "markdown",
   "metadata": {},
   "source": [
    "> **remove():**"
   ]
  },
  {
   "cell_type": "code",
   "execution_count": 11,
   "metadata": {},
   "outputs": [],
   "source": [
    "nfile = open('new_file.txt', 'w')\n",
    "nfile.write('This is another file...')\n",
    "nfile.write('For demonstrating remove operation..')\n",
    "nfile.close()"
   ]
  },
  {
   "cell_type": "code",
   "execution_count": 12,
   "metadata": {},
   "outputs": [],
   "source": [
    "import os\n",
    "\n",
    "os.remove('new_file.txt')"
   ]
  },
  {
   "cell_type": "markdown",
   "metadata": {},
   "source": [
    "> **mkdir():**"
   ]
  },
  {
   "cell_type": "code",
   "execution_count": 15,
   "metadata": {},
   "outputs": [],
   "source": [
    "import os\n",
    "\n",
    "os.mkdir('others')"
   ]
  },
  {
   "cell_type": "markdown",
   "metadata": {},
   "source": [
    "> **cd():**"
   ]
  },
  {
   "cell_type": "code",
   "execution_count": 16,
   "metadata": {},
   "outputs": [],
   "source": [
    "import os\n",
    "\n",
    "os.chdir('others')\n"
   ]
  },
  {
   "cell_type": "markdown",
   "metadata": {},
   "source": [
    "> **getcwd():**"
   ]
  },
  {
   "cell_type": "code",
   "execution_count": 19,
   "metadata": {},
   "outputs": [
    {
     "data": {
      "text/plain": [
       "'c:\\\\Users\\\\ABC\\\\Desktop\\\\Notes\\\\Online Notes PDF\\\\Python\\\\others'"
      ]
     },
     "execution_count": 19,
     "metadata": {},
     "output_type": "execute_result"
    }
   ],
   "source": [
    "import os\n",
    "\n",
    "os.getcwd()"
   ]
  },
  {
   "cell_type": "markdown",
   "metadata": {},
   "source": [
    "> **rmdir():**"
   ]
  },
  {
   "cell_type": "code",
   "execution_count": 14,
   "metadata": {},
   "outputs": [],
   "source": [
    "import os\n",
    "\n",
    "os.rmdir('others')"
   ]
  },
  {
   "cell_type": "code",
   "execution_count": null,
   "metadata": {},
   "outputs": [],
   "source": []
  }
 ],
 "metadata": {
  "kernelspec": {
   "display_name": "Python 3",
   "language": "python",
   "name": "python3"
  },
  "language_info": {
   "codemirror_mode": {
    "name": "ipython",
    "version": 3
   },
   "file_extension": ".py",
   "mimetype": "text/x-python",
   "name": "python",
   "nbconvert_exporter": "python",
   "pygments_lexer": "ipython3",
   "version": "3.11.3"
  },
  "orig_nbformat": 4
 },
 "nbformat": 4,
 "nbformat_minor": 2
}
